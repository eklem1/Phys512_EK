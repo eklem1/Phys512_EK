{
 "cells": [
  {
   "cell_type": "markdown",
   "metadata": {},
   "source": [
    "### Emma Klemets, 260775167   \n",
    "All my work, code, output and written answers are in this notebook."
   ]
  },
  {
   "cell_type": "code",
   "execution_count": 7,
   "metadata": {},
   "outputs": [],
   "source": [
    "import numpy as np\n",
    "import matplotlib.pyplot as plt\n",
    "from scipy import interpolate\n",
    "from scipy import integrate\n",
    "import math"
   ]
  },
  {
   "cell_type": "markdown",
   "metadata": {},
   "source": [
    "### Problem 1\n",
    "Write a recursive variable step size integrator like the one we\n",
    "wrote in class that does NOT call f(x) multiple times for the same x. For a few typical examples, how many function calls do you save vs. the lazy way we wrote it in class?"
   ]
  },
  {
   "cell_type": "code",
   "execution_count": 2,
   "metadata": {},
   "outputs": [],
   "source": [
    "def simple_integrate(fun,a,b,tol, text=False):\n",
    "    \n",
    "    #x to intrate over\n",
    "    x=np.linspace(a,b,5)\n",
    "    #dx from x range\n",
    "    dx=(b-a)/4.0\n",
    "    #np.median(np.diff(x))\n",
    "    y=fun(x)\n",
    "    \n",
    "    neval=len(x) #let's keep track of function evaluations\n",
    "    \n",
    "    #get error of region\n",
    "    f1=(y[0]+4*y[2]+y[4])/6.0*(b-a)\n",
    "    f2=(y[0]+4*y[1]+2*y[2]+4*y[3]+y[4])/12.0*(b-a)\n",
    "    \n",
    "    myerr=np.abs(f2-f1)\n",
    "    \n",
    "    if text:\n",
    "        print(\"interval: ({}, {}), {} {}\".format(a,b,f1,f2))\n",
    "    \n",
    "    #if within tolerance, return value\n",
    "    if (myerr<tol):\n",
    "        #return (f2)/1.0,myerr,neval\n",
    "        return (16.0*f2-f1)/15.0,myerr,neval\n",
    "    else: #else split interval and call again\n",
    "        mid=0.5*(b+a) #split usign new midpoint\n",
    "        \n",
    "        f_left,err_left,neval_left=simple_integrate(fun,a,mid,tol/2.0, text=text)\n",
    "        \n",
    "        f_right,err_right,neval_right=simple_integrate(fun,mid,b,tol/2.0, text=text)\n",
    "        \n",
    "        #put results from split together\n",
    "        neval=neval+neval_left+neval_right\n",
    "        f=f_left+f_right\n",
    "        err=err_left+err_right\n",
    "        \n",
    "        return f,err,neval"
   ]
  },
  {
   "cell_type": "code",
   "execution_count": 3,
   "metadata": {},
   "outputs": [],
   "source": [
    "def simple_integrate_smart(fun,a,b,tol, edges=['n', 'n'], text=False):\n",
    "    \n",
    "    #x to intrate over\n",
    "    x=np.linspace(a,b,5)\n",
    "    #dx from x range\n",
    "    dx=(b-a)/4.0\n",
    "\n",
    "    #For start there are no edge values calculated\n",
    "    if isinstance(edges[0], str):\n",
    "        y=fun(x)\n",
    "        #keep track of function evaluations\n",
    "        neval=len(x)\n",
    "\n",
    "    else:\n",
    "        y=np.concatenate(([edges[0]], fun(x[1:-1]), [edges[1]]))\n",
    "        #keep track of function evaluations\n",
    "        neval=len(x[1:-1])\n",
    "#         print(x[0], x[-1], a, b   \n",
    "    \n",
    "    #get error of region\n",
    "    f1=(y[0]+4*y[2]+y[4])/6.0*(b-a)\n",
    "    f2=(y[0]+4*y[1]+2*y[2]+4*y[3]+y[4])/12.0*(b-a)\n",
    "    \n",
    "    myerr=np.abs(f2-f1)\n",
    "    \n",
    "    if text:\n",
    "        print(\"interval: ({}, {}), {} {}\".format(a,b,f1,f2))\n",
    "    \n",
    "    #if within tolerance, return value\n",
    "    if (myerr<tol):\n",
    "        #return (f2)/1.0,myerr,neval\n",
    "        return (16.0*f2-f1)/15.0,myerr,neval\n",
    "    else: #else split interval and call again\n",
    "        mid=0.5*(b+a) #split usign new midpoint\n",
    "        \n",
    "        f_left,err_left,neval_left=simple_integrate_smart(fun,a,mid,tol/2.0, [y[0], y[2]], text=text)\n",
    "        \n",
    "        f_right,err_right,neval_right=simple_integrate_smart(fun,mid,b,tol/2.0, [y[2], y[-1]], text=text)\n",
    "        \n",
    "        #put results from split together\n",
    "        neval=neval+neval_left+neval_right\n",
    "        f=f_left+f_right\n",
    "        err=err_left+err_right\n",
    "        \n",
    "        return f,err,neval"
   ]
  },
  {
   "cell_type": "code",
   "execution_count": 4,
   "metadata": {},
   "outputs": [],
   "source": [
    "#functions to fit\n",
    "sig=0.1\n",
    "\n",
    "def fun(x):\n",
    "    return 1.0/(1.0+x**2)\n",
    "\n",
    "def fun2(x):\n",
    "    return 1.0+np.exp(-0.5*x**2/(sig**2))"
   ]
  },
  {
   "cell_type": "code",
   "execution_count": 5,
   "metadata": {},
   "outputs": [
    {
     "name": "stdout",
     "output_type": "stream",
     "text": [
      "value: 2.3504e+00 +/- 2.3419e-04, function calls: 25\n",
      "Smart function: \n",
      "my_value: 2.3504e+00 +/- 2.3419e-04, function calls: 17\n",
      "Saves 8 functions calls. True error: 3.2994e-07\n"
     ]
    }
   ],
   "source": [
    "#TO DO: loop through a couple functions\n",
    "\n",
    "#function from class\n",
    "f,err,neval=simple_integrate(np.exp,-1,1,1e-3)\n",
    "#my smarter function\n",
    "my_f,my_err,my_neval=simple_integrate_smart(np.exp,-1,1,1e-3)#, text=True)\n",
    "\n",
    "#exact value\n",
    "pred=np.exp(1)-np.exp(-1)\n",
    "\n",
    "#print results\n",
    "print(\"value: {:.4e} +/- {:.4e}, function calls: {}\".format(f,err,neval))\n",
    "print(\"Smart function: \\nmy_value: {:.4e} +/- {:.4e}, function calls: {}\".format(my_f,my_err,my_neval))\n",
    "\n",
    "print(\"Saves {} functions calls. True error: {:.4e}\".format(neval-my_neval, np.abs(pred-my_f)))"
   ]
  },
  {
   "cell_type": "markdown",
   "metadata": {},
   "source": [
    "### Problem 2: \n",
    "a) Write a function that models the log base 2 of x valid from 0.5 to 1 to an accuracy in the region better than 10−6. Please use a truncated Chebyshev polynomial fit to do this, and please write your own fit routine.   \n",
    "\n",
    "- How many terms do you need?\n",
    "    - Carry out a polynomial fit of the same order (we’ll see how to do this ourselves in coming lectures, but for now I suggest just calling np.polynomial.legendre.legfit, which will be more stable than np.polyfit).   \n",
    "- Plot the residuals for both the truncated Chebyshev and standard polynomial fits. \n",
    "    - Which one has higher RMS error? Which one has a larger max error?"
   ]
  },
  {
   "cell_type": "code",
   "execution_count": 78,
   "metadata": {},
   "outputs": [],
   "source": [
    "log = lambda x: [math.log2(i) for i in x]\n"
   ]
  },
  {
   "cell_type": "markdown",
   "metadata": {},
   "source": [
    "Chebyshev Polynomials   \n",
    "$T_n = cos(n~a~cos(x)) ~~ -1 \\leq x \\leq 1$   \n",
    "$T_0=1, T_1=x$  \n",
    "$T_{n+1}=2\\cdot T_N - T_{n-1}$"
   ]
  },
  {
   "cell_type": "code",
   "execution_count": 127,
   "metadata": {},
   "outputs": [],
   "source": [
    "def cheb_fit(fun,ord):\n",
    "    x=np.linspace(0.5,1,ord+1)\n",
    "    y=fun(x)\n",
    "    \n",
    "    mat=np.zeros([ord+1,ord+1])\n",
    "    #set t0 and t1 values\n",
    "    mat[:,0]=1\n",
    "    mat[:,1]=x\n",
    "    \n",
    "    #fill other Chebyshev Polynomials using recurrence relation\n",
    "    for i in range(1,ord):\n",
    "        mat[:,i+1]=2*x*mat[:,i]-mat[:,i-1]\n",
    "        \n",
    "    #invert matric and mutliply by y to get coeffs\n",
    "    coeffs=np.linalg.inv(mat)@y\n",
    "    return coeffs\n",
    "\n",
    "def cheb_vals(c, ord):\n",
    "    x=np.linspace(0.5,1,ord+1)\n",
    "    \n",
    "    mat=np.zeros([ord+1,ord+1])\n",
    "    #set t0 and t1 values\n",
    "    mat[:,0]=1\n",
    "    mat[:,1]=x\n",
    "    \n",
    "    #fill other Chebyshev Polynomials using recurrence relation\n",
    "    for i in range(1,ord):\n",
    "        mat[:,i+1]=2*x*mat[:,i]-mat[:,i-1]\n",
    "        \n",
    "    #mulitply by coeff to get y values\n",
    "    return mat@c"
   ]
  },
  {
   "cell_type": "code",
   "execution_count": 128,
   "metadata": {},
   "outputs": [],
   "source": [
    "#cheb fit\n",
    "deg = 7\n",
    "\n",
    "coeffs=cheb_fit(log,deg)\n",
    "cheb_fit = cheb_vals(coeffs, deg)\n",
    "\n",
    "x=np.linspace(0.5,1,deg+1)\n",
    "y=log(x)"
   ]
  },
  {
   "cell_type": "code",
   "execution_count": 129,
   "metadata": {},
   "outputs": [
    {
     "name": "stdout",
     "output_type": "stream",
     "text": [
      "1.3760196880220174e-10 4.765752237290144e-10\n"
     ]
    }
   ],
   "source": [
    "# need better than 10−6\n",
    "\"\"\"\n",
    "deg - max error\n",
    "8 = 7.763446774333715e-09\n",
    "7 - 4.765752237290144e-10\n",
    "6 - 1.1664269550237805e-10\n",
    "\"\"\"\n",
    "\n",
    "cheb_rms = np.std(np.abs(cheb_fit-y))\n",
    "cheb_maxErr = np.max(np.abs(cheb_fit-y))\n",
    "print(cheb_rms, cheb_maxErr)"
   ]
  },
  {
   "cell_type": "code",
   "execution_count": 130,
   "metadata": {},
   "outputs": [
    {
     "name": "stdout",
     "output_type": "stream",
     "text": [
      "1000\n",
      "1000\n"
     ]
    }
   ],
   "source": [
    "#polyfit \n",
    "xp = np.linspace(0.5, 1, 1000)\n",
    "# print(x)\n",
    "yp = [math.log2(i) for i in xp]\n",
    "\n",
    "# Return the coefficients of a Legendre series, [residuals, rank, singular_values, rcond]\n",
    "polyfit, polyfit_info = np.polynomial.legendre.legfit(xp, yp, deg, full=True)\n",
    "\n",
    "polyfit_leg = np.polynomial.legendre.legval(xp, polyfit)\n",
    "\n",
    "print(len(polyfit_leg))\n",
    "print(len(xp))"
   ]
  },
  {
   "cell_type": "code",
   "execution_count": 131,
   "metadata": {},
   "outputs": [
    {
     "ename": "ValueError",
     "evalue": "operands could not be broadcast together with shapes (1000,) (8,) ",
     "output_type": "error",
     "traceback": [
      "\u001b[1;31m---------------------------------------------------------------------------\u001b[0m",
      "\u001b[1;31mValueError\u001b[0m                                Traceback (most recent call last)",
      "\u001b[1;32m<ipython-input-131-32916e2b46ca>\u001b[0m in \u001b[0;36m<module>\u001b[1;34m\u001b[0m\n\u001b[0;32m      1\u001b[0m \u001b[1;31m# RMS, max error - should we have abs here?\u001b[0m\u001b[1;33m\u001b[0m\u001b[1;33m\u001b[0m\u001b[1;33m\u001b[0m\u001b[0m\n\u001b[1;32m----> 2\u001b[1;33m \u001b[0mpoly_rms\u001b[0m \u001b[1;33m=\u001b[0m \u001b[0mnp\u001b[0m\u001b[1;33m.\u001b[0m\u001b[0mstd\u001b[0m\u001b[1;33m(\u001b[0m\u001b[0mnp\u001b[0m\u001b[1;33m.\u001b[0m\u001b[0mabs\u001b[0m\u001b[1;33m(\u001b[0m\u001b[0mpolyfit_leg\u001b[0m\u001b[1;33m-\u001b[0m\u001b[0my\u001b[0m\u001b[1;33m)\u001b[0m\u001b[1;33m)\u001b[0m\u001b[1;33m\u001b[0m\u001b[1;33m\u001b[0m\u001b[0m\n\u001b[0m\u001b[0;32m      3\u001b[0m \u001b[0mpoly_maxErr\u001b[0m \u001b[1;33m=\u001b[0m \u001b[0mnp\u001b[0m\u001b[1;33m.\u001b[0m\u001b[0mmax\u001b[0m\u001b[1;33m(\u001b[0m\u001b[0mnp\u001b[0m\u001b[1;33m.\u001b[0m\u001b[0mabs\u001b[0m\u001b[1;33m(\u001b[0m\u001b[0mpolyfit_leg\u001b[0m\u001b[1;33m-\u001b[0m\u001b[0my\u001b[0m\u001b[1;33m)\u001b[0m\u001b[1;33m)\u001b[0m\u001b[1;33m\u001b[0m\u001b[1;33m\u001b[0m\u001b[0m\n\u001b[0;32m      4\u001b[0m \u001b[0mprint\u001b[0m\u001b[1;33m(\u001b[0m\u001b[0mpoly_rms\u001b[0m\u001b[1;33m,\u001b[0m \u001b[0mpoly_maxErr\u001b[0m\u001b[1;33m)\u001b[0m\u001b[1;33m\u001b[0m\u001b[1;33m\u001b[0m\u001b[0m\n",
      "\u001b[1;31mValueError\u001b[0m: operands could not be broadcast together with shapes (1000,) (8,) "
     ]
    }
   ],
   "source": [
    "\n",
    "# RMS, max error - should we have abs here?\n",
    "poly_rms = np.std(np.abs(polyfit_leg-y))\n",
    "poly_maxErr = np.max(np.abs(polyfit_leg-y))\n",
    "print(poly_rms, poly_maxErr)"
   ]
  },
  {
   "cell_type": "code",
   "execution_count": 134,
   "metadata": {},
   "outputs": [
    {
     "name": "stderr",
     "output_type": "stream",
     "text": [
      "C:\\Users\\Emma\\Anaconda3\\lib\\site-packages\\ipykernel_launcher.py:16: UserWarning: Matplotlib is currently using module://ipykernel.pylab.backend_inline, which is a non-GUI backend, so cannot show the figure.\n",
      "  app.launch_new_instance()\n"
     ]
    },
    {
     "data": {
      "image/png": "[encoded data removed]",
      "text/plain": [
       "<Figure size 720x288 with 2 Axes>"
      ]
     },
     "metadata": {
      "needs_background": "light"
     },
     "output_type": "display_data"
    }
   ],
   "source": [
    "fig, ax = plt.subplots(1, 2, figsize=(10,4))\n",
    "\n",
    "ax[0].plot(x, cheb_fit, label='Cheb')\n",
    "ax[0].plot(xp, polyfit_leg, label='Poly', ls=\"--\")\n",
    "ax[0].set_title(\"fits\")\n",
    "ax[0].legend(prop={'size': 14})\n",
    "\n",
    "\n",
    "ax[1].plot(x, np.abs(cheb_fit-y), label='Cheb')\n",
    "ax[1].plot(xp, np.abs(polyfit_leg-yp), label='Poly')\n",
    "\n",
    "ax[1].set_title(\"residuals\")\n",
    "ax[1].legend(prop={'size': 14})\n",
    "# ax[1].set_ylabel(\"f' exact - f' approx\")\n",
    "\n",
    "fig.show()"
   ]
  },
  {
   "cell_type": "code",
   "execution_count": null,
   "metadata": {},
   "outputs": [],
   "source": []
  },
  {
   "cell_type": "code",
   "execution_count": null,
   "metadata": {},
   "outputs": [],
   "source": []
  },
  {
   "cell_type": "markdown",
   "metadata": {},
   "source": [
    "### Problem 3: \n",
    "\n",
    "a) Write a program to solve for the decay products of U238\n",
    "(refer to slides for the decay chain). You can use the ODE solver from scipy, but you’ll need to set the problem up properly. Please make sure to include all the decay prodcuts in the chain. Assume you start from a sample of pure U238 (in nature, this sort of separation happens chemically when rocks are formed). Which solver would you use for this problem? \n",
    "\n",
    "b) Plot the ratio of Pb206 to U238 as a function of time over a region where\n",
    "it’s interesting. Does this make sense analytically? (If you look at the decay chain, all the half-lives are short compared to U238, so you can approximate the U238 decaying instantly to lead. Now plot the ratio of Thorium 230 to U234 over a region where that is interesting. Radioactive decay is frequently used to date rocks, and these results point at how you can determine the age of a uranium-bearing rock that is anywhere from thousands to billions of years old. (Of course, in this case the starting ratio of U234 to U238 would probably have already reached its long-term average when the rock was formed, but you could still use the U234/Th230 ratio under that assumption.)"
   ]
  },
  {
   "cell_type": "code",
   "execution_count": null,
   "metadata": {},
   "outputs": [],
   "source": []
  }
 ],
 "metadata": {
  "kernelspec": {
   "display_name": "Python 3",
   "language": "python",
   "name": "python3"
  },
  "language_info": {
   "codemirror_mode": {
    "name": "ipython",
    "version": 3
   },
   "file_extension": ".py",
   "mimetype": "text/x-python",
   "name": "python",
   "nbconvert_exporter": "python",
   "pygments_lexer": "ipython3",
   "version": "3.7.4"
  }
 },
 "nbformat": 4,
 "nbformat_minor": 4
}
