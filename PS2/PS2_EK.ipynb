{
 "cells": [
  {
   "cell_type": "markdown",
   "metadata": {},
   "source": [
    "### Emma Klemets, 260775167   \n",
    "All my work, code, output and written answers are in this notebook."
   ]
  },
  {
   "cell_type": "code",
   "execution_count": 1,
   "metadata": {},
   "outputs": [],
   "source": [
    "import numpy as np\n",
    "import matplotlib.pyplot as plt\n",
    "from scipy import interpolate\n",
    "from scipy import integrate"
   ]
  },
  {
   "cell_type": "markdown",
   "metadata": {},
   "source": [
    "### Problem 1\n",
    "Write a recursive variable step size integrator like the one we\n",
    "wrote in class that does NOT call f(x) multiple times for the same x. For a few typical examples, how many function calls do you save vs. the lazy way we wrote it in class?"
   ]
  },
  {
   "cell_type": "code",
   "execution_count": 66,
   "metadata": {},
   "outputs": [],
   "source": [
    "def simple_integrate(fun,a,b,tol, text=False):\n",
    "    \n",
    "    #x to intrate over\n",
    "    x=np.linspace(a,b,5)\n",
    "    #dx from x range\n",
    "    dx=(b-a)/4.0\n",
    "    #np.median(np.diff(x))\n",
    "    y=fun(x)\n",
    "    \n",
    "    neval=len(x) #let's keep track of function evaluations\n",
    "    \n",
    "    #get error of region\n",
    "    f1=(y[0]+4*y[2]+y[4])/6.0*(b-a)\n",
    "    f2=(y[0]+4*y[1]+2*y[2]+4*y[3]+y[4])/12.0*(b-a)\n",
    "    \n",
    "    myerr=np.abs(f2-f1)\n",
    "    \n",
    "    if text:\n",
    "        print(\"interval: ({}, {}), {} {}\".format(a,b,f1,f2))\n",
    "    \n",
    "    #if within tolerance, return value\n",
    "    if (myerr<tol):\n",
    "        #return (f2)/1.0,myerr,neval\n",
    "        return (16.0*f2-f1)/15.0,myerr,neval\n",
    "    else: #else split interval and call again\n",
    "        mid=0.5*(b+a) #split usign new midpoint\n",
    "        \n",
    "        f_left,err_left,neval_left=simple_integrate(fun,a,mid,tol/2.0, text=text)\n",
    "        \n",
    "        f_right,err_right,neval_right=simple_integrate(fun,mid,b,tol/2.0, text=text)\n",
    "        \n",
    "        #put results from split together\n",
    "        neval=neval+neval_left+neval_right\n",
    "        f=f_left+f_right\n",
    "        err=err_left+err_right\n",
    "        \n",
    "        return f,err,neval"
   ]
  },
  {
   "cell_type": "code",
   "execution_count": 67,
   "metadata": {},
   "outputs": [],
   "source": [
    "def simple_integrate_smart(fun,a,b,tol, edges=['n', 'n'], text=False):\n",
    "    \n",
    "    #x to intrate over\n",
    "    x=np.linspace(a,b,5)\n",
    "    #dx from x range\n",
    "    dx=(b-a)/4.0\n",
    "\n",
    "    #For start there are no edge values calculated\n",
    "    if isinstance(edges[0], str):\n",
    "        y=fun(x)\n",
    "        #keep track of function evaluations\n",
    "        neval=len(x)\n",
    "\n",
    "    else:\n",
    "        y=np.concatenate(([edges[0]], fun(x[1:-1]), [edges[1]]))\n",
    "        #keep track of function evaluations\n",
    "        neval=len(x[1:-1])\n",
    "#         print(x[0], x[-1], a, b   \n",
    "    \n",
    "    #get error of region\n",
    "    f1=(y[0]+4*y[2]+y[4])/6.0*(b-a)\n",
    "    f2=(y[0]+4*y[1]+2*y[2]+4*y[3]+y[4])/12.0*(b-a)\n",
    "    \n",
    "    myerr=np.abs(f2-f1)\n",
    "    \n",
    "    if text:\n",
    "        print(\"interval: ({}, {}), {} {}\".format(a,b,f1,f2))\n",
    "    \n",
    "    #if within tolerance, return value\n",
    "    if (myerr<tol):\n",
    "        #return (f2)/1.0,myerr,neval\n",
    "        return (16.0*f2-f1)/15.0,myerr,neval\n",
    "    else: #else split interval and call again\n",
    "        mid=0.5*(b+a) #split usign new midpoint\n",
    "        \n",
    "        f_left,err_left,neval_left=simple_integrate_smart(fun,a,mid,tol/2.0, [y[0], y[2]], text=text)\n",
    "        \n",
    "        f_right,err_right,neval_right=simple_integrate_smart(fun,mid,b,tol/2.0, [y[2], y[-1]], text=text)\n",
    "        \n",
    "        #put results from split together\n",
    "        neval=neval+neval_left+neval_right\n",
    "        f=f_left+f_right\n",
    "        err=err_left+err_right\n",
    "        \n",
    "        return f,err,neval"
   ]
  },
  {
   "cell_type": "code",
   "execution_count": 79,
   "metadata": {},
   "outputs": [],
   "source": [
    "#functions to fit\n",
    "sig=0.1\n",
    "\n",
    "def fun(x):\n",
    "    return 1.0/(1.0+x**2)\n",
    "\n",
    "def fun2(x):\n",
    "    return 1.0+np.exp(-0.5*x**2/(sig**2))"
   ]
  },
  {
   "cell_type": "code",
   "execution_count": 81,
   "metadata": {},
   "outputs": [
    {
     "name": "stdout",
     "output_type": "stream",
     "text": [
      "value: 2.3504e+00 +/- 2.3419e-04, function calls: 25\n",
      "Smart function: \n",
      "my_value: 2.3504e+00 +/- 2.3419e-04, function calls: 17\n",
      "Saves 8 functions calls. True error: 3.2994e-07\n"
     ]
    }
   ],
   "source": [
    "#TO DO: loop through a couple functions\n",
    "\n",
    "#function from class\n",
    "f,err,neval=simple_integrate(np.exp,-1,1,1e-3)\n",
    "#my smarter function\n",
    "my_f,my_err,my_neval=simple_integrate_smart(np.exp,-1,1,1e-3)#, text=True)\n",
    "\n",
    "#exact value\n",
    "pred=np.exp(1)-np.exp(-1)\n",
    "\n",
    "#print results\n",
    "print(\"value: {:.4e} +/- {:.4e}, function calls: {}\".format(f,err,neval))\n",
    "print(\"Smart function: \\nmy_value: {:.4e} +/- {:.4e}, function calls: {}\".format(my_f,my_err,my_neval))\n",
    "\n",
    "print(\"Saves {} functions calls. True error: {:.4e}\".format(neval-my_neval, np.abs(pred-my_f)))"
   ]
  },
  {
   "cell_type": "markdown",
   "metadata": {},
   "source": [
    "### Problem 2: \n",
    "a) Write a function that models the log base 2 of x valid from 0.5 to 1 to an accuracy in the region better than 10−6. Please use a truncated Chebyshev polynomial fit to do this, and please write your own fit routine.   \n",
    "\n",
    "- How many terms do you need?\n",
    "    - Carry out a polynomial fit of the same order (we’ll see how to do this ourselves in coming lectures, but for now I suggest just calling np.polynomial.legendre.legfit, which will be more stable than np.polyfit).   \n",
    "- Plot the residuals for both the truncated Chebyshev and standard polynomial fits. \n",
    "    - Which one has higher RMS error? Which one has a larger max error?"
   ]
  },
  {
   "cell_type": "code",
   "execution_count": null,
   "metadata": {},
   "outputs": [],
   "source": []
  },
  {
   "cell_type": "code",
   "execution_count": null,
   "metadata": {},
   "outputs": [],
   "source": []
  },
  {
   "cell_type": "code",
   "execution_count": null,
   "metadata": {},
   "outputs": [],
   "source": []
  },
  {
   "cell_type": "code",
   "execution_count": null,
   "metadata": {},
   "outputs": [],
   "source": []
  },
  {
   "cell_type": "code",
   "execution_count": null,
   "metadata": {},
   "outputs": [],
   "source": []
  },
  {
   "cell_type": "markdown",
   "metadata": {},
   "source": [
    "### Problem 3: \n",
    "\n",
    "a) Write a program to solve for the decay products of U238\n",
    "(refer to slides for the decay chain). You can use the ODE solver from scipy, but you’ll need to set the problem up properly. Please make sure to include all the decay prodcuts in the chain. Assume you start from a sample of pure U238 (in nature, this sort of separation happens chemically when rocks are formed). Which solver would you use for this problem? \n",
    "\n",
    "b) Plot the ratio of Pb206 to U238 as a function of time over a region where\n",
    "it’s interesting. Does this make sense analytically? (If you look at the decay chain, all the half-lives are short compared to U238, so you can approximate the U238 decaying instantly to lead. Now plot the ratio of Thorium 230 to U234 over a region where that is interesting. Radioactive decay is frequently used to date rocks, and these results point at how you can determine the age of a uranium-bearing rock that is anywhere from thousands to billions of years old. (Of course, in this case the starting ratio of U234 to U238 would probably have already reached its long-term average when the rock was formed, but you could still use the U234/Th230 ratio under that assumption.)"
   ]
  },
  {
   "cell_type": "code",
   "execution_count": null,
   "metadata": {},
   "outputs": [],
   "source": []
  }
 ],
 "metadata": {
  "kernelspec": {
   "display_name": "Python 3",
   "language": "python",
   "name": "python3"
  },
  "language_info": {
   "codemirror_mode": {
    "name": "ipython",
    "version": 3
   },
   "file_extension": ".py",
   "mimetype": "text/x-python",
   "name": "python",
   "nbconvert_exporter": "python",
   "pygments_lexer": "ipython3",
   "version": "3.7.4"
  }
 },
 "nbformat": 4,
 "nbformat_minor": 4
}
