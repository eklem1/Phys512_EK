{
 "cells": [
  {
   "cell_type": "markdown",
   "metadata": {},
   "source": [
    "### Emma Klemets, 260775167   \n",
    "All my work, code, output and written answers are in this notebook."
   ]
  },
  {
   "cell_type": "code",
   "execution_count": 1,
   "metadata": {},
   "outputs": [],
   "source": [
    "import numpy as np\n",
    "import matplotlib.pyplot as plt\n",
    "from scipy import interpolate\n",
    "from scipy import integrate\n",
    "import math"
   ]
  },
  {
   "cell_type": "markdown",
   "metadata": {},
   "source": [
    "### Problem 1\n",
    "Write a recursive variable step size integrator like the one we\n",
    "wrote in class that does NOT call f(x) multiple times for the same x. For a few typical examples, how many function calls do you save vs. the lazy way we wrote it in class?"
   ]
  },
  {
   "cell_type": "code",
   "execution_count": 2,
   "metadata": {},
   "outputs": [],
   "source": [
    "def simple_integrate(fun,a,b,tol, text=False):\n",
    "    \n",
    "    #x to intrate over\n",
    "    x=np.linspace(a,b,5)\n",
    "    #dx from x range\n",
    "    dx=(b-a)/4.0\n",
    "    #np.median(np.diff(x))\n",
    "    y=fun(x)\n",
    "    \n",
    "    neval=len(x) #let's keep track of function evaluations\n",
    "    \n",
    "    #get error of region\n",
    "    f1=(y[0]+4*y[2]+y[4])/6.0*(b-a)\n",
    "    f2=(y[0]+4*y[1]+2*y[2]+4*y[3]+y[4])/12.0*(b-a)\n",
    "    \n",
    "    myerr=np.abs(f2-f1)\n",
    "    \n",
    "    if text:\n",
    "        print(\"interval: ({}, {}), {} {}\".format(a,b,f1,f2))\n",
    "    \n",
    "    #if within tolerance, return value\n",
    "    if (myerr<tol):\n",
    "        #return (f2)/1.0,myerr,neval\n",
    "        return (16.0*f2-f1)/15.0,myerr,neval\n",
    "    else: #else split interval and call again\n",
    "        mid=0.5*(b+a) #split usign new midpoint\n",
    "        \n",
    "        f_left,err_left,neval_left=simple_integrate(fun,a,mid,tol/2.0, text=text)\n",
    "        \n",
    "        f_right,err_right,neval_right=simple_integrate(fun,mid,b,tol/2.0, text=text)\n",
    "        \n",
    "        #put results from split together\n",
    "        neval=neval+neval_left+neval_right\n",
    "        f=f_left+f_right\n",
    "        err=err_left+err_right\n",
    "        \n",
    "        return f,err,neval"
   ]
  },
  {
   "cell_type": "code",
   "execution_count": 3,
   "metadata": {},
   "outputs": [],
   "source": [
    "def simple_integrate_smart(fun,a,b,tol, edges=['n', 'n'], text=False):\n",
    "    \n",
    "    #x to intrate over\n",
    "    x=np.linspace(a,b,5)\n",
    "    #dx from x range\n",
    "    dx=(b-a)/4.0\n",
    "\n",
    "    #For start there are no edge values calculated\n",
    "    if isinstance(edges[0], str):\n",
    "        y=fun(x)\n",
    "        #keep track of function evaluations\n",
    "        neval=len(x)\n",
    "\n",
    "    else:\n",
    "        y=np.concatenate(([edges[0]], fun(x[1:-1]), [edges[1]]))\n",
    "        #keep track of function evaluations\n",
    "        neval=len(x[1:-1])\n",
    "#         print(x[0], x[-1], a, b   \n",
    "    \n",
    "    #get error of region\n",
    "    f1=(y[0]+4*y[2]+y[4])/6.0*(b-a)\n",
    "    f2=(y[0]+4*y[1]+2*y[2]+4*y[3]+y[4])/12.0*(b-a)\n",
    "    \n",
    "    myerr=np.abs(f2-f1)\n",
    "    \n",
    "    if text:\n",
    "        print(\"interval: ({}, {}), {} {}\".format(a,b,f1,f2))\n",
    "    \n",
    "    #if within tolerance, return value\n",
    "    if (myerr<tol):\n",
    "        #return (f2)/1.0,myerr,neval\n",
    "        return (16.0*f2-f1)/15.0,myerr,neval\n",
    "    else: #else split interval and call again\n",
    "        mid=0.5*(b+a) #split usign new midpoint\n",
    "        \n",
    "        f_left,err_left,neval_left=simple_integrate_smart(fun,a,mid,tol/2.0, [y[0], y[2]], text=text)\n",
    "        \n",
    "        f_right,err_right,neval_right=simple_integrate_smart(fun,mid,b,tol/2.0, [y[2], y[-1]], text=text)\n",
    "        \n",
    "        #put results from split together\n",
    "        neval=neval+neval_left+neval_right\n",
    "        f=f_left+f_right\n",
    "        err=err_left+err_right\n",
    "        \n",
    "        return f,err,neval"
   ]
  },
  {
   "cell_type": "code",
   "execution_count": 4,
   "metadata": {},
   "outputs": [],
   "source": [
    "#functions to fit\n",
    "sig=0.1\n",
    "\n",
    "def fun(x):\n",
    "    return 1.0/(1.0+x**2)\n",
    "\n",
    "def fun2(x):\n",
    "    return 1.0+np.exp(-0.5*x**2/(sig**2))"
   ]
  },
  {
   "cell_type": "code",
   "execution_count": 5,
   "metadata": {},
   "outputs": [
    {
     "name": "stdout",
     "output_type": "stream",
     "text": [
      "value: 2.3504e+00 +/- 2.3419e-04, function calls: 25\n",
      "Smart function: \n",
      "my_value: 2.3504e+00 +/- 2.3419e-04, function calls: 17\n",
      "Saves 8 functions calls. True error: 3.2994e-07\n"
     ]
    }
   ],
   "source": [
    "#TO DO: loop through a couple functions\n",
    "\n",
    "#function from class\n",
    "f,err,neval=simple_integrate(np.exp,-1,1,1e-3)\n",
    "#my smarter function\n",
    "my_f,my_err,my_neval=simple_integrate_smart(np.exp,-1,1,1e-3)#, text=True)\n",
    "\n",
    "#exact value\n",
    "pred=np.exp(1)-np.exp(-1)\n",
    "\n",
    "#print results\n",
    "print(\"value: {:.4e} +/- {:.4e}, function calls: {}\".format(f,err,neval))\n",
    "print(\"Smart function: \\nmy_value: {:.4e} +/- {:.4e}, function calls: {}\".format(my_f,my_err,my_neval))\n",
    "\n",
    "print(\"Saves {} functions calls. True error: {:.4e}\".format(neval-my_neval, np.abs(pred-my_f)))"
   ]
  },
  {
   "cell_type": "markdown",
   "metadata": {},
   "source": [
    "### Problem 2: \n",
    "a) Write a function that models the log base 2 of x valid from 0.5 to 1 to an accuracy in the region better than 10−6. Please use a truncated Chebyshev polynomial fit to do this, and please write your own fit routine.   \n",
    "\n",
    "- How many terms do you need?\n",
    "    - Carry out a polynomial fit of the same order (we’ll see how to do this ourselves in coming lectures, but for now I suggest just calling np.polynomial.legendre.legfit, which will be more stable than np.polyfit).   \n",
    "- Plot the residuals for both the truncated Chebyshev and standard polynomial fits. \n",
    "    - Which one has higher RMS error? Which one has a larger max error?"
   ]
  },
  {
   "cell_type": "code",
   "execution_count": 6,
   "metadata": {},
   "outputs": [],
   "source": [
    "log = lambda x: [math.log2(i) for i in x]\n"
   ]
  },
  {
   "cell_type": "markdown",
   "metadata": {},
   "source": [
    "Chebyshev Polynomials   \n",
    "$T_n = cos(n~a~cos(x)) ~~ -1 \\leq x \\leq 1$   \n",
    "$T_0=1, T_1=x$  \n",
    "$T_{n+1}=2\\cdot T_N - T_{n-1}$"
   ]
  },
  {
   "cell_type": "code",
   "execution_count": 7,
   "metadata": {},
   "outputs": [],
   "source": [
    "def cheb_fit(fun,ord):\n",
    "    x=np.linspace(0.5,1,ord+1)\n",
    "    y=fun(x)\n",
    "    \n",
    "    mat=np.zeros([ord+1,ord+1])\n",
    "    #set t0 and t1 values\n",
    "    mat[:,0]=1\n",
    "    mat[:,1]=x\n",
    "    \n",
    "    #fill other Chebyshev Polynomials using recurrence relation\n",
    "    for i in range(1,ord):\n",
    "        mat[:,i+1]=2*x*mat[:,i]-mat[:,i-1]\n",
    "        \n",
    "    #invert matric and mutliply by y to get coeffs\n",
    "    coeffs=np.linalg.inv(mat)@y\n",
    "    return coeffs\n",
    "\n",
    "def cheb_vals(c, ord):\n",
    "    x=np.linspace(0.5,1,ord+1)\n",
    "    \n",
    "    mat=np.zeros([ord+1,ord+1])\n",
    "    #set t0 and t1 values\n",
    "    mat[:,0]=1\n",
    "    mat[:,1]=x\n",
    "    \n",
    "    #fill other Chebyshev Polynomials using recurrence relation\n",
    "    for i in range(1,ord):\n",
    "        mat[:,i+1]=2*x*mat[:,i]-mat[:,i-1]\n",
    "        \n",
    "    #mulitply by coeff to get y values\n",
    "    return mat@c"
   ]
  },
  {
   "cell_type": "code",
   "execution_count": 8,
   "metadata": {},
   "outputs": [],
   "source": [
    "#cheb fit\n",
    "deg = 8\n",
    "\n",
    "coeffs=cheb_fit(log,deg)\n",
    "cheb_fitted = cheb_vals(coeffs, deg)\n",
    "\n",
    "x=np.linspace(0.5,1,deg+1)\n",
    "y=log(x)"
   ]
  },
  {
   "cell_type": "code",
   "execution_count": 9,
   "metadata": {},
   "outputs": [
    {
     "name": "stdout",
     "output_type": "stream",
     "text": [
      "2.207867228191078e-09 7.763446774333715e-09\n"
     ]
    }
   ],
   "source": [
    "# need better than 10−6\n",
    "\"\"\"\n",
    "Is accuracy max error?\n",
    "deg - max error\n",
    "8 = 7.763446774333715e-09\n",
    "7 - 4.765752237290144e-10\n",
    "6 - 1.1664269550237805e-10\n",
    "5 - 5.5422333389287814e-12\n",
    "\n",
    "smaller deg give smaller max error, but also worst fit?\n",
    "\"\"\"\n",
    "\n",
    "cheb_rms = np.std(np.abs(cheb_fitted-y))\n",
    "cheb_maxErr = np.max(np.abs(cheb_fitted-y))\n",
    "print(cheb_rms, cheb_maxErr)"
   ]
  },
  {
   "cell_type": "code",
   "execution_count": 10,
   "metadata": {},
   "outputs": [],
   "source": [
    "#polyfit \n",
    "xp = np.linspace(0.5, 1, 1000)\n",
    "# print(x)\n",
    "yp = [math.log2(i) for i in xp]\n",
    "\n",
    "# Return the coefficients of a Legendre series, [residuals, rank, singular_values, rcond]\n",
    "polyfit, polyfit_info = np.polynomial.legendre.legfit(xp, yp, deg, full=True)\n",
    "\n",
    "polyfit_leg = np.polynomial.legendre.legval(xp, polyfit)\n"
   ]
  },
  {
   "cell_type": "code",
   "execution_count": 11,
   "metadata": {},
   "outputs": [
    {
     "name": "stdout",
     "output_type": "stream",
     "text": [
      "1.3500526807238988e-08 1.2647538127907865e-07\n"
     ]
    }
   ],
   "source": [
    "\n",
    "# RMS, max error - should we have abs here?\n",
    "poly_rms = np.std(np.abs(polyfit_leg-yp))\n",
    "poly_maxErr = np.max(np.abs(polyfit_leg-yp))\n",
    "print(poly_rms, poly_maxErr)"
   ]
  },
  {
   "cell_type": "code",
   "execution_count": 12,
   "metadata": {},
   "outputs": [
    {
     "name": "stderr",
     "output_type": "stream",
     "text": [
      "C:\\Users\\Emma\\Anaconda3\\lib\\site-packages\\ipykernel_launcher.py:18: UserWarning: Matplotlib is currently using module://ipykernel.pylab.backend_inline, which is a non-GUI backend, so cannot show the figure.\n"
     ]
    },
    {
     "name": "stdout",
     "output_type": "stream",
     "text": [
      "For order 8\n",
      "For chebyshev, rms: 2.2079e-09, max error: 7.7634e-09\n",
      "For polynominal, rms: 1.3501e-08, max error: 1.2648e-07\n"
     ]
    },
    {
     "data": {
      "image/png": "[encoded data removed]",
      "text/plain": [
       "<Figure size 720x288 with 2 Axes>"
      ]
     },
     "metadata": {
      "needs_background": "light"
     },
     "output_type": "display_data"
    }
   ],
   "source": [
    "fig, ax = plt.subplots(1, 2, figsize=(10,4))\n",
    "\n",
    "ax[0].plot(x, cheb_fitted, label='Cheb', ls=\"--\")\n",
    "ax[0].plot(xp, polyfit_leg, label='Poly', ls=\"--\")\n",
    "ax[0].plot(xp, log(xp), label='True', color=\"grey\")\n",
    "\n",
    "ax[0].set_title(\"fits\")\n",
    "ax[0].legend(prop={'size': 14})\n",
    "\n",
    "\n",
    "ax[1].plot(x, np.abs(cheb_fitted-y), label='Cheb', ls=\"\", marker=\".\")\n",
    "ax[1].plot(xp, np.abs(polyfit_leg-yp), label='Poly', ls=\"\", marker=\".\", markersize=2)\n",
    "\n",
    "ax[1].set_title(\"residuals\")\n",
    "ax[1].legend(prop={'size': 14})\n",
    "# ax[1].set_ylabel(\"f' exact - f' approx\")\n",
    "\n",
    "fig.show()\n",
    "\n",
    "print(\"For order {}\".format(deg))\n",
    "print(\"For chebyshev, rms: {:.4e}, max error: {:.4e}\".format(cheb_rms, cheb_maxErr))\n",
    "print(\"For polynominal, rms: {:.4e}, max error: {:.4e}\".format(poly_rms, poly_maxErr))"
   ]
  },
  {
   "cell_type": "code",
   "execution_count": 13,
   "metadata": {},
   "outputs": [
    {
     "name": "stdout",
     "output_type": "stream",
     "text": [
      "The polynomial has a larger RMS value,\n",
      "and the polynomial has a larger maximum error.\n"
     ]
    }
   ],
   "source": [
    "if cheb_rms > poly_rms:\n",
    "    print(\"Chebyshev has a larger RMS value,\")\n",
    "else:\n",
    "    print(\"The polynomial has a larger RMS value,\")\n",
    "    \n",
    "if cheb_maxErr > poly_maxErr:\n",
    "    print(\" and Chebyshev has a larger maximum error.\")\n",
    "else:\n",
    "    print(\"and the polynomial has a larger maximum error.\")\n"
   ]
  },
  {
   "cell_type": "code",
   "execution_count": 97,
   "metadata": {},
   "outputs": [],
   "source": [
    "from scipy import integrate"
   ]
  },
  {
   "cell_type": "markdown",
   "metadata": {},
   "source": [
    "### Problem 3: \n",
    "\n",
    "a) Write a program to solve for the decay products of U238\n",
    "(refer to slides for the decay chain). You can use the ODE solver from scipy, but you’ll need to set the problem up properly. Please make sure to include all the decay prodcuts in the chain. Assume you start from a sample of pure U238 (in nature, this sort of separation happens chemically when rocks are formed). Which solver would you use for this problem? "
   ]
  },
  {
   "cell_type": "code",
   "execution_count": 67,
   "metadata": {},
   "outputs": [
    {
     "name": "stdout",
     "output_type": "stream",
     "text": [
      "[1.40995496e+17 2.08224000e+08 2.41200000e+04 7.74717869e+12\n",
      " 2.37874676e+12 5.04907776e+10 3.30341760e+05 1.86000000e+02\n",
      " 1.60800000e+03 1.19400000e+03 1.64300000e-04 7.03715213e+08\n",
      " 4.33296000e+05 1.19556864e+07]\n"
     ]
    }
   ],
   "source": [
    "# pure U238 \n",
    "# it's a stiff equationsss?\n",
    "\n",
    "# scipy.integrate.solve_ivp(fun, t_span, y0, method='RK45', \n",
    "# t_eval=None, dense_output=False, events=None, vectorized=False, args=None, **options)\n",
    "\n",
    "# half_life=[1,1e-5] #put all my half life values in an array here in order?\n",
    "\n",
    "# http://holbert.faculty.asu.edu/eee460/RadioactiveDecay.pdf\n",
    "\n",
    "half_lifeTable = {\n",
    "    \"U238\": 4.468, #bil years,\n",
    "    \"Th234\": 2410, #days,\n",
    "    \"Pa234\": 6.70, #Hrs\n",
    "    \"U234\": 245500,#years\n",
    "    \"Th230\": 75380,#years\n",
    "    \"Ra226\": 1600,#years\n",
    "    \"Rn222\": 3.8234, #days\n",
    "    \"Po218\": 3.10, #Min\n",
    "    \"Pb214\": 26.8, #min\n",
    "    \"Bi214\": 19.9, #min\n",
    "    \"Po214\": 164.3, #microsec\n",
    "    \"Pb210\": 22.3, #years\n",
    "    \"Bi210\": 5.015, #years #days says wiki?\n",
    "    \"Po210\": 138.376, #days\n",
    "    \"Pb206\": \"stable\"  \n",
    "}\n",
    "\n",
    "half_lifes_dict = { #in seconds\n",
    "    \"U238\": 4.468*60*60*24*365.24*1e9, #bil years,\n",
    "    \"Th234\": 2410*60*60*24, #days,\n",
    "    \"Pa234\": 6.70*60*60, #Hrs\n",
    "    \"U234\": 245500*60*60*24*365.24,#years\n",
    "    \"Th230\": 75380*60*60*24*365.24,#years\n",
    "    \"Ra226\": 1600*60*60*24*365.24,#years\n",
    "    \"Rn222\": 3.8234*60*60*24, #days\n",
    "    \"Po218\": 3.10*60, #Min\n",
    "    \"Pb214\": 26.8*60, #min\n",
    "    \"Bi214\": 19.9*60, #min\n",
    "    \"Po214\": 164.3*1e-6, #microsec\n",
    "    \"Pb210\": 22.3*60*60*24*365.24, #years\n",
    "    \"Bi210\": 5.015*60*60*24, #years #days says wiki?\n",
    "    \"Po210\": 138.376*60*60*24, #days\n",
    "#     \"Pb206\": \"stable\"  \n",
    "}\n",
    "\n",
    "# half_lives = np.array(list(half_lifes_dict.items()))[:-1,1] #* 60*60*24*365.24\n",
    "# print(half_lifes_dict)\n",
    "\n",
    "half_lives = np.fromiter(half_lifes_dict.values(), dtype=float) #seconds\n",
    "\n",
    "print(half_lives)"
   ]
  },
  {
   "cell_type": "code",
   "execution_count": 73,
   "metadata": {},
   "outputs": [],
   "source": [
    "def fun(x,y,half_life=[1,1e-5]):\n",
    "    #let's do a 2-state radioactive decay\n",
    "    \n",
    "    dydx=np.zeros(len(half_life)+1) \n",
    "    \n",
    "    #first decay\n",
    "    dydx[0]=-y[0]/half_life[0]\n",
    "    \n",
    "    #second decay comes from production of [0] but also still decays [1]\n",
    "    dydx[1]=y[0]/half_life[0]-y[1]/half_life[1]\n",
    "    \n",
    "    #final product doesn't decay, only comes from production of [1]\n",
    "    dydx[2]=y[1]/half_life[1]\n",
    "    \n",
    "    return dydx\n",
    "\n",
    "def fun_mine(x,y,half_life=half_lives):\n",
    "    \n",
    "    dydx=np.zeros(len(half_life)+1) \n",
    "    \n",
    "    #first decay\n",
    "#     print(y[0], half_life[0])\n",
    "#     print(type(y[0]), type(half_life[0]))\n",
    "    \n",
    "    dydx[0]=-y[0]/half_life[0]\n",
    "    \n",
    "    for i in range(0, len(half_life)-1):\n",
    "        #second decay comes from production of [0] but also still decays [1]\n",
    "        dydx[i+1]=y[i]/half_life[i]-y[i+1]/half_life[i+1]\n",
    "\n",
    "    #final product doesn't decay, only comes from production of [-2]\n",
    "    dydx[-1]=y[len(half_life)-1]/half_life[len(half_life)-1]\n",
    "    \n",
    "    return dydx"
   ]
  },
  {
   "cell_type": "code",
   "execution_count": 63,
   "metadata": {},
   "outputs": [
    {
     "name": "stdout",
     "output_type": "stream",
     "text": [
      "final value is  0.3678803705878815  with truth  0.36787944117144233\n"
     ]
    }
   ],
   "source": [
    "#inital values\n",
    "y0=np.asarray([1,0,0]) \n",
    "\n",
    "#time start and stop\n",
    "x0=0\n",
    "x1=1\n",
    "\n",
    "ans_stiff=integrate.solve_ivp(fun,[x0,x1],y0,method='Radau')\n",
    "\n",
    "print('final value is ',ans_stiff.y[0,-1],' with truth ',np.exp(-1*(x1-x0)))\n",
    "# ans_stiff.y[# of values,# time points]"
   ]
  },
  {
   "cell_type": "code",
   "execution_count": 79,
   "metadata": {},
   "outputs": [],
   "source": [
    "y0=np.zeros(len(half_lives)+1)\n",
    "y0[0]=1\n",
    "\n",
    "#time start and stop\n",
    "x0=0\n",
    "x1=1e20\n",
    "\n",
    "# print(len(y0))\n",
    "\n",
    "# print(type(y0[0]))\n",
    "# print(type(half_lives[0]))\n",
    "\n",
    "ans_stiff=integrate.solve_ivp(fun_mine,[x0,x1],y0,method='Radau')\n"
   ]
  },
  {
   "cell_type": "code",
   "execution_count": 84,
   "metadata": {},
   "outputs": [
    {
     "data": {
      "image/png": "[encoded data removed]",
      "text/plain": [
       "<Figure size 432x288 with 1 Axes>"
      ]
     },
     "metadata": {
      "needs_background": "light"
     },
     "output_type": "display_data"
    }
   ],
   "source": [
    "for i in range(1, len(half_lives)):\n",
    "    plt.semilogx(ans_stiff.t, ans_stiff.y[i,:])\n",
    "    \n",
    "plt.show()"
   ]
  },
  {
   "cell_type": "markdown",
   "metadata": {},
   "source": [
    "b) Plot the ratio of Pb206 to U238 as a function of time over a region where\n",
    "it’s interesting. Does this make sense analytically? (If you look at the decay chain, all the half-lives are short compared to U238, so you can approximate the U238 decaying instantly to lead.   \n",
    "Now plot the ratio of Thorium 230 to U234 over a region where that is interesting.    \n",
    "Radioactive decay is frequently used to date rocks, and these results point at how you can determine the age of a uranium-bearing rock that is anywhere from thousands to billions of years old. (Of course, in this case the starting ratio of U234 to U238 would probably have already reached its long-term average when the rock was formed, but you could still use the U234/Th230 ratio under that assumption.)"
   ]
  },
  {
   "cell_type": "code",
   "execution_count": 92,
   "metadata": {},
   "outputs": [
    {
     "data": {
      "image/png": "[encoded data removed]",
      "text/plain": [
       "<Figure size 432x288 with 1 Axes>"
      ]
     },
     "metadata": {
      "needs_background": "light"
     },
     "output_type": "display_data"
    }
   ],
   "source": [
    "#do i have the half lives flipped?\n",
    "plt.title(\"ratio of Pb206 to U238\")\n",
    "plt.semilogx(ans_stiff.t, ans_stiff.y[-1,:]/ans_stiff.y[0,:]) #Pb206 / U238\n",
    "plt.xlim(1e18,)\n",
    "plt.show()\n"
   ]
  },
  {
   "cell_type": "code",
   "execution_count": 96,
   "metadata": {},
   "outputs": [
    {
     "data": {
      "image/png": "[encoded data removed]",
      "text/plain": [
       "<Figure size 432x288 with 1 Axes>"
      ]
     },
     "metadata": {
      "needs_background": "light"
     },
     "output_type": "display_data"
    }
   ],
   "source": [
    "plt.title(\"ratio Thorium 230 to U234\")\n",
    "plt.semilogx(ans_stiff.t, ans_stiff.y[4,:]/ans_stiff.y[0,:]) #Pb206 / U238\n",
    "plt.xlim(1e10,1e16)\n",
    "plt.show()"
   ]
  },
  {
   "cell_type": "code",
   "execution_count": null,
   "metadata": {},
   "outputs": [],
   "source": []
  }
 ],
 "metadata": {
  "kernelspec": {
   "display_name": "Python 3",
   "language": "python",
   "name": "python3"
  },
  "language_info": {
   "codemirror_mode": {
    "name": "ipython",
    "version": 3
   },
   "file_extension": ".py",
   "mimetype": "text/x-python",
   "name": "python",
   "nbconvert_exporter": "python",
   "pygments_lexer": "ipython3",
   "version": "3.7.4"
  }
 },
 "nbformat": 4,
 "nbformat_minor": 4
}
