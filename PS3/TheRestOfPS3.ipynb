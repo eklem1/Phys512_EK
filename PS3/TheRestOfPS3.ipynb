{
 "cells": [
  {
   "cell_type": "code",
   "execution_count": 2,
   "metadata": {},
   "outputs": [],
   "source": [
    "import numpy as np\n",
    "import matplotlib.pyplot as plt\n",
    "import wmap_camb_example"
   ]
  },
  {
   "cell_type": "markdown",
   "metadata": {},
   "source": [
    "data to fit: We want the combined (not binned) version of the spectrum. This gives the measured variance of the sky as a function of multipole l. WMAP does not measure the monopole, and the dipole is set by the motion of the Earth/Milky Way relative to the CMB reference frame. So, the spectrum starts with the quadrupole (l = 2). The first column is the multipole index, the second is the measured power spectrum, and the third is the error in that. For simplicity, we will treat the errors as Gaussian and uncorrelated, though that is not quite accurate. The final two columns break down the error into the instrument noise part and the “cosmic variance” part, due to the fact that we only have a finite number of modes in the sky to measure."
   ]
  },
  {
   "cell_type": "code",
   "execution_count": 3,
   "metadata": {},
   "outputs": [
    {
     "data": {
      "image/png": "[encoded data removed]",
      "text/plain": [
       "<Figure size 432x288 with 1 Axes>"
      ]
     },
     "metadata": {
      "needs_background": "light"
     },
     "output_type": "display_data"
    }
   ],
   "source": [
    "#given code\n",
    "plt.ion()\n",
    "\n",
    "#[H_0, w_bh2, w_ch2, tau, A_s, slope]\n",
    "pars=np.asarray([65,0.02,0.1,0.05,2e-9,0.96])\n",
    "\n",
    "#[multipole index, measured power spectrum, error, instrument noise part, “cosmic variance” part]\n",
    "wmap=np.loadtxt('wmap_tt_spectrum_9yr_v5.txt')\n",
    "\n",
    "plt.clf();\n",
    "# plt.errorbar(wmap[:,0],wmap[:,1],wmap[:,2],fmt='*', alpha=0.1)\n",
    "plt.plot(wmap[:,0],wmap[:,1],'.') \n",
    "\n",
    "cmb=wmap_camb_example.get_spectrum(pars)\n",
    "\n",
    "plt.plot(cmb) #what really is the x values here then?\n",
    "plt.xlabel(\"multipole index\")\n",
    "plt.ylabel(\"power spectrum\")\n",
    "\n",
    "plt.show()"
   ]
  },
  {
   "cell_type": "markdown",
   "metadata": {},
   "source": [
    "### 2) \n",
    "Using Gaussian, uncorrelated errors, what do you get for χ2 for the model in my example script, where the Hubble constant H_0 = 65 km/s, the physical baryon density $ω_bh^2=0.02$, the cold dark matter density $ω_ch^2 = 0.1$ the optical depth $τ = 0.05$, the primordial amplitude of fluctuations is $A_s = 2 × 10^{−9}$, and the slope of the primordial power law is 0.96 (where 1 would be scale-invariant). The baryon/dark matter densities are defined relative to the critical density required to close the universe, scaled by h^2 where $h ≡ H_0/100 ∼ 0.7$.   \n",
    "Note that the universe is assumed to be spatially flat (for reasons too long to justify here), so the dark matter density relative to critical for these parameters would be $1 − (ω_bh^2 + ω_ch^2)/h^2 =71.6%$ for the model assumed here. (You may want to play around plotting different models as you change parameters to get a sense for how the CMB depends on them.)   \n",
    "If everything has gone well, you should get something around 1588 (please give a few extra digits) for χ2 for this model."
   ]
  },
  {
   "cell_type": "code",
   "execution_count": 56,
   "metadata": {},
   "outputs": [],
   "source": [
    "def chisq(data,pars):\n",
    "    #we need a function that calculates chi^2 for us for the MCMC\n",
    "    #routine to call\n",
    "    x=data[0]\n",
    "    y=data[1]\n",
    "    noise=data[2]\n",
    "    \n",
    "    #set chi to inf if tau is negative to not get these terms\n",
    "    if pars[3] < 0:\n",
    "        chisq = np.inf\n",
    "    else:\n",
    "        model=cmbfun(x,pars)\n",
    "\n",
    "        chisq=np.sum( (y-model)**2/noise**2)\n",
    "    \n",
    "    return chisq\n",
    "\n",
    "def cmbfun(x,pars):\n",
    "    #call the cmb function with the current parameters\n",
    "    y = wmap_camb_example.get_spectrum(pars, len(x))[:-2]\n",
    "    return y"
   ]
  },
  {
   "cell_type": "code",
   "execution_count": 4,
   "metadata": {},
   "outputs": [
    {
     "name": "stdout",
     "output_type": "stream",
     "text": [
      "Chi squared is: 1676.467714877247\n"
     ]
    }
   ],
   "source": [
    "#chi: sum( (data - fitted)^2/data ) or over sigma^2\n",
    "\n",
    "#assuming Gaussian, uncorrelated errors --> N is diagonal and sigma_i is simple the error on each value\n",
    "\n",
    "# print(len(cmb))\n",
    "# print(len(wmap[:,1]))\n",
    "\n",
    "chiSq = 0\n",
    "\n",
    "#how to actually match up values?\n",
    "#x is just (1, 2, 3, ...) so this is sorta fine?\n",
    "for i in range(len(wmap)):\n",
    "    chiSq +=(wmap[i,1]-cmb[i])**2 / wmap[i,2]**2\n",
    "\n",
    "print(\"Chi squared is: {}\".format(chiSq)) #hmm not that close"
   ]
  },
  {
   "cell_type": "code",
   "execution_count": null,
   "metadata": {},
   "outputs": [],
   "source": []
  },
  {
   "cell_type": "markdown",
   "metadata": {},
   "source": [
    "### 3) \n",
    "Keeping the optical depth fixed at 0.05, write a Newton’s method/LevenbergMarquardt minimizer and use it to find the best-fit values for the other parameters, and their errors. What are they?   \n",
    "If you were to keep the same set of parameter but now float τ, what would you expect the new errors to be? Note that CAMB does not provide derivatives with respect to parameters, so you’ll have to come up with something for that. *Please also provide a plot showing why we should believe your derivative estimates.*"
   ]
  },
  {
   "cell_type": "code",
   "execution_count": 5,
   "metadata": {},
   "outputs": [],
   "source": [
    "#numerical derivative\n",
    "def derive(x, params, i, Min, Max, steps):\n",
    "#     params\n",
    "\n",
    "    fitP = params[i]\n",
    "\n",
    "    # var = np.linspace(0 , H_0para + 10)\n",
    "    var = np.linspace(fitP - Min , fitP + Max, steps)\n",
    "#     print(var)\n",
    "\n",
    "    smaller = np.where(var < fitP)[0][-1]\n",
    "    bigger = np.where(var > fitP)[0][0]\n",
    "#     print(smaller, bigger, (var[smaller], var[bigger]))\n",
    "        \n",
    "    paramArr = [ np.where(params==fitP, v, params) for v in var]\n",
    "\n",
    "    #quite slow - this is not going to be efficent\n",
    "    y = np.array([wmap_camb_example.get_spectrum(p, 1820) for p in paramArr])\n",
    "#     print(y[4])\n",
    "    \n",
    "    slope = [(y[bigger,int(j)] - y[smaller,int(j)]) / (var[bigger] - var[smaller]) for j in x]\n",
    "    \n",
    "#     print( (y[bigger,50] - y[smaller,50]))\n",
    "#     print(slope)\n",
    "\n",
    "    return [slope, y, var]\n",
    "\n",
    "#numerical derivative\n",
    "def derive_short(x, params, i, stepSize):\n",
    "\n",
    "    fitP = params[i]\n",
    "\n",
    "    # var = np.linspace(0 , H_0para + 10)\n",
    "    x1 = fitP + stepSize\n",
    "    x2 = fitP - stepSize\n",
    "       \n",
    "    paramArr1 = np.where(params==fitP, x1, params)\n",
    "    paramArr2 = np.where(params==fitP, x2, params)\n",
    "\n",
    "    #quite slow - this is not going to be efficent\n",
    "    y1 = wmap_camb_example.get_spectrum(paramArr1, 1820)\n",
    "    y2 = wmap_camb_example.get_spectrum(paramArr2, 1820)\n",
    "\n",
    "#     print(y[4])\n",
    "    \n",
    "    slope = [(y1[int(j)] - y2[int(j)]) / (x1 - x2) for j in x]\n",
    "\n",
    "    return [slope]"
   ]
  },
  {
   "cell_type": "code",
   "execution_count": 281,
   "metadata": {},
   "outputs": [],
   "source": [
    "# pars_guess=np.asarray([60, 0.02, 0.1, 0.05, 2e-9, 0.96])\n",
    "# pars_guess=np.asarray([7.46279762e+01, 6.25474176e-03, 1.66248810e-01, 0.05, 1.31297024e-09, 8.13705641e-01])\n",
    "pars_guess=np.asarray([7.46279762e+01, 1.15e-02, 1.66248810e-01, 0.05, 1.31297024e-09, 8.13705641e-01])\n",
    "\n",
    "x=wmap[:,0]\n",
    "\n",
    "# results = derive(x, pars_guess, 0, 10, 10, 8)\n",
    "results = derive(x, pars_guess, 3, 0.04, 0.04, 8)\n",
    "\n",
    "slope = results[0]\n",
    "y = results[1]\n",
    "var = results[2]"
   ]
  },
  {
   "cell_type": "code",
   "execution_count": 282,
   "metadata": {},
   "outputs": [],
   "source": [
    "results_short = derive_short(x, pars_guess, 3, 0.04/8)[0]"
   ]
  },
  {
   "cell_type": "code",
   "execution_count": 283,
   "metadata": {},
   "outputs": [
    {
     "data": {
      "image/png": "[encoded data removed]",
      "text/plain": [
       "<Figure size 720x576 with 4 Axes>"
      ]
     },
     "metadata": {
      "needs_background": "light"
     },
     "output_type": "display_data"
    }
   ],
   "source": [
    "fig, ax = plt.subplots(2, 2, figsize=(10,8))\n",
    "\n",
    "axs = ax.flatten()\n",
    "current = pars_guess[3]\n",
    "\n",
    "for i, x in enumerate([4, 50, 400, 1000]):\n",
    "\n",
    "    #mx + b\n",
    "    b = y[3,x] - slope[x]*var[3]\n",
    "    b_short = y[3,x] - results_short[x]*var[3]\n",
    "\n",
    "\n",
    "    #dy/dh_0 = y - y_1 / ( h0 - h0_1)\n",
    "\n",
    "    #dep on x value\n",
    "    axs[i].plot(var, y[:,x], label='equation', marker=\"o\")\n",
    "    axs[i].set_xlabel(\"var\")\n",
    "    axs[i].set_ylabel(\"PS at x={}\".format(x))\n",
    "    axs[i].axvline(current, color='grey', ls=\"--\", label=\"current guess\")\n",
    "    axs[i].plot(var, slope[x]*var + b, label='slope')\n",
    "    axs[i].plot(var, results_short[x]*var + b_short, label='short deriv slope', ls=\"--\")\n",
    "\n",
    "    axs[i].legend()\n",
    "\n",
    "plt.show()"
   ]
  },
  {
   "cell_type": "code",
   "execution_count": 6,
   "metadata": {},
   "outputs": [],
   "source": [
    "#function and derivatives\n",
    "def f_cmb(x,params):\n",
    "    H0=params[0]\n",
    "    ombh2=params[1]\n",
    "    omch2=params[2]\n",
    "#     tau=pars[3]\n",
    "    As=params[3]\n",
    "    ns=params[4]\n",
    "    \n",
    "    pars = np.insert(params, 2, 0.05)\n",
    "    \n",
    "#     y = wmap_camb_example.get_spectrum(pars, lmax=len(x)) #give a length of 1201?\n",
    "    y = wmap_camb_example.get_spectrum(pars, lmax=len(x))[:-2]\n",
    "    \n",
    "    derivs=np.zeros([len(x),len(params)])\n",
    "    \n",
    "    derivs[:,0]=derive_short(x, pars, 0, 4)[0]\n",
    "    derivs[:,1]=derive_short(x, pars, 1, 0.001/2.0)[0]\n",
    "    derivs[:,2]=derive_short(x, pars, 2, 0.05/2.0)[0]\n",
    "    derivs[:,3]=derive_short(x, pars, 4, 1e-9/2.0)[0]\n",
    "    derivs[:,4]=derive_short(x, pars, 5, 0.5/2.0)[0]\n",
    "    \n",
    "    return y,derivs"
   ]
  },
  {
   "cell_type": "markdown",
   "metadata": {},
   "source": [
    "The iterative update is dependent on the value of an algorithmic parameter, λ— a non-negative damping factor which smooths out the graph. The update is Gauss-Newton if λ is small (i.e. close to the optimal value) and a gradient descent if λ is large (Gavin, 2007). The Gauss-Newton is more accurate and faster than the gradient descent when close to the minimum error. \n",
    "Therefore, so the algorithm will migrate towards the GN algorithm as soon as possible."
   ]
  },
  {
   "cell_type": "code",
   "execution_count": 22,
   "metadata": {},
   "outputs": [
    {
     "name": "stdout",
     "output_type": "stream",
     "text": [
      "iteration  0  has step  [ 3.69894766e+01 -5.20614231e-03 -2.35795562e-02 -7.84994057e-10\n",
      " -7.54600838e-03]\n",
      "chisq:  4555.744458116236\n",
      "iteration  1  has step  [-5.02003065e+00  1.00148661e-02  8.25911613e-03  4.48931812e-10\n",
      "  6.68210316e-02]\n",
      "chisq:  1950.0158159790083\n",
      "iteration  2  has step  [-1.73885319e+01 -4.98182007e-03  2.45593099e-02  1.88109831e-10\n",
      " -5.46810550e-02]\n",
      "chisq:  5180.560149990988\n",
      "iteration  3  has step  [ 1.73620086e+01 -1.00670037e-03 -3.01484633e-04 -1.99387120e-10\n",
      "  1.33707784e-02]\n",
      "chisq:  1525.939102893733\n",
      "iteration  4  has step  [-6.85765649e+00  3.06547421e-03  1.53696032e-02  2.14767776e-10\n",
      "  1.45842035e-02]\n",
      "chisq:  2878.5413602505873\n",
      "iteration  5  has step  [-4.66717788e-01 -1.43147534e-03  1.31524839e-02  2.67927623e-11\n",
      " -9.26255341e-03]\n",
      "chisq:  2676.67188650801\n",
      "iteration  6  has step  [2.17199894e+00 3.61391848e-04 1.14049860e-02 3.72225810e-11\n",
      " 7.08740547e-03]\n",
      "chisq:  2383.766373506086\n",
      "iteration  7  has step  [-1.17453163e+00  3.55115009e-04  1.35476619e-02  7.73735723e-11\n",
      "  3.34762767e-03]\n",
      "chisq:  2677.1069568439752\n",
      "iteration  8  has step  [ 6.81978965e-01 -7.12226550e-05  1.24570113e-02  4.38045476e-11\n",
      "  2.68357423e-03]\n",
      "chisq:  2521.5391833467593\n",
      "iteration  9  has step  [1.75579344e-01 2.69349388e-04 1.28164581e-02 6.29094729e-11\n",
      " 4.74130313e-03]\n",
      "chisq:  2551.2701830071874\n",
      "iteration  10  has step  [1.04469736e-01 1.45192391e-04 1.29250877e-02 6.17382324e-11\n",
      " 3.94754344e-03]\n",
      "chisq:  2558.970252539198\n",
      "iteration  11  has step  [3.03252912e-01 1.66258947e-04 1.28533589e-02 6.19235059e-11\n",
      " 4.45594911e-03]\n",
      "chisq:  2535.998806785753\n",
      "iteration  12  has step  [1.87971602e-01 1.95502251e-04 1.29857824e-02 6.67298307e-11\n",
      " 4.70164783e-03]\n",
      "chisq:  2541.0195464403346\n",
      "iteration  13  has step  [2.58260121e-01 1.87879416e-04 1.30057966e-02 6.78595423e-11\n",
      " 4.91423406e-03]\n",
      "chisq:  2530.6280042719673\n",
      "iteration  14  has step  [2.55628436e-01 2.07060041e-04 1.30733992e-02 7.10560722e-11\n",
      " 5.21292227e-03]\n",
      "chisq:  2525.2556182980406\n",
      "final parameters are  [9.25831569e+01 2.22707289e-02 2.52529014e-01 2.44483836e-09\n",
      " 1.02437860e+00]  with errors  [3.29700768e+00 6.85825589e-04 2.93884922e-03 4.51783159e-11\n",
      " 1.30467389e-02]\n"
     ]
    }
   ],
   "source": [
    "# newton's method\n",
    "# add in Levenberg-Marquardt?\n",
    "\n",
    "x=wmap[:,0]\n",
    "\n",
    "sig=wmap[:,2]\n",
    "y=wmap[:,1]\n",
    "N=np.eye(len(x))*sig**2\n",
    "Ninv=np.eye(len(x))/sig**2\n",
    "\n",
    "# print(N)\n",
    "\n",
    "tau = 0.05 #set\n",
    "#[H_0, w_bh2, w_ch2, _, A_s, slope]\n",
    "pars_guess=np.asarray([65, 0.02, 0.1, 2e-9, 0.96])\n",
    "\n",
    "pars_cur=pars_guess.copy()\n",
    "\n",
    "pars_savedArr = []\n",
    "\n",
    "for iter in range(15):\n",
    "    y_pred,derivs=f_cmb(x,pars_cur)\n",
    "    resid=y-y_pred #data minus current model\n",
    "#     print(resid)\n",
    "    \n",
    "    rhs=derivs.T@(Ninv@resid)\n",
    "    lhs=derivs.T@Ninv@derivs\n",
    "#     print(rhs, lhs)\n",
    "    \n",
    "    step=np.linalg.inv(lhs)@rhs\n",
    "    \n",
    "    pars_cur=pars_cur+step\n",
    "    pars_savedArr.append(pars_cur)\n",
    "    \n",
    "    print('iteration ',iter,' has step ',step)\n",
    "    \n",
    "    chi_pars = np.insert(pars_cur, 2, 0.05)\n",
    "    \n",
    "    chiS = chisq([x, y, sig], chi_pars)\n",
    "    print(\"chisq: \", chiS)\n",
    "    \n",
    "    \n",
    "par_errs2=np.sqrt(np.diag(np.linalg.inv(lhs)))\n",
    "print('final parameters are ',pars_cur,' with errors ',par_errs2)\n",
    "\n",
    "# broke on param [7.46279762e+01 6.25474176e-03 1.66248810e-01 1.31297024e-09 8.13705641e-01]\n",
    "#[1] = -3.77757475e-03"
   ]
  },
  {
   "cell_type": "code",
   "execution_count": null,
   "metadata": {},
   "outputs": [
    {
     "name": "stdout",
     "output_type": "stream",
     "text": [
      "iteration  0  has step  [ 3.69894766e+01 -5.20614231e-03 -2.35795562e-02 -7.84994057e-10\n",
      " -7.54600838e-03]\n",
      "chisq:  4555.744458116236\n",
      "iteration  1  has step  [-5.02003065e+00  1.00148661e-02  8.25911613e-03  4.48931812e-10\n",
      "  6.68210316e-02]\n",
      "chisq:  1950.0158159790083\n",
      "iteration  2  increase lambda to  2\n",
      "chisq:  5180.560149990988\n"
     ]
    }
   ],
   "source": [
    "# newton's method with in Levenberg-Marquardt\n",
    "\n",
    "x=wmap[:,0]\n",
    "\n",
    "sig=wmap[:,2]\n",
    "y=wmap[:,1]\n",
    "N=np.eye(len(x))*sig**2\n",
    "Ninv=np.eye(len(x))/sig**2\n",
    "\n",
    "tau = 0.05 #set\n",
    "#[H_0, w_bh2, w_ch2, _, A_s, slope]\n",
    "pars_guess=np.asarray([65, 0.02, 0.1, 2e-9, 0.96])\n",
    "\n",
    "pars_cur=pars_guess.copy()\n",
    "\n",
    "pars_savedArr = []\n",
    "Lambda = 0\n",
    "prev_chi = np.inf\n",
    "\n",
    "for iter in range(25):\n",
    "    y_pred,derivs=f_cmb(x,pars_cur)\n",
    "    resid=y-y_pred #data minus current model\n",
    "#     print(resid)\n",
    "\n",
    "    #rescale diagonal \n",
    "    for i in range(len(derivs[0])):\n",
    "        derivs[i][i] = (1+Lambda)*derivs[i][i]\n",
    "    \n",
    "    rhs=derivs.T@(Ninv@resid)\n",
    "    lhs=derivs.T@Ninv@derivs\n",
    "#     print(rhs, lhs)\n",
    "    \n",
    "    step=np.linalg.inv(lhs)@rhs\n",
    "    \n",
    "    chi_pars = np.insert(pars_cur+step, 2, 0.05)\n",
    "    chi = chisq([x, y, sig], chi_pars)\n",
    "    \n",
    "    #chiSq improves, take step\n",
    "    if chi < prev_chi:\n",
    "        pars_cur = pars_cur+step\n",
    "        pars_savedArr.append(pars_cur) #save values for corvarience matrix\n",
    "        prev_chi = chi #save new chqsquared for next step\n",
    "        \n",
    "        Lambda = Lambda / np.sqrt(2) #make lambda setp smaller\n",
    "        print('iteration ',iter,' has step ',step)\n",
    "\n",
    "    \n",
    "    #chiSq doesn't improves, take step according to lambda    \n",
    "    else:\n",
    "        if Lambda == 0:\n",
    "            Lambda = 2\n",
    "        else:\n",
    "            Lambda = 2*Lambda\n",
    "#             pars_cur = pars_cur+step\n",
    "        print('iteration ',iter,' increase lambda to ',Lambda)\n",
    "    \n",
    "    print(\"chisq: \", chi)\n",
    "    \n",
    "    \n",
    "par_errs2=np.sqrt(np.diag(np.linalg.inv(lhs)))\n",
    "print('final parameters are ',pars_cur,' with errors ',par_errs2)\n",
    "\n",
    "# broke on param [7.46279762e+01 6.25474176e-03 1.66248810e-01 1.31297024e-09 8.13705641e-01]\n",
    "#[1] = -3.77757475e-03"
   ]
  },
  {
   "cell_type": "code",
   "execution_count": 53,
   "metadata": {},
   "outputs": [
    {
     "name": "stdout",
     "output_type": "stream",
     "text": [
      "[[ 4.68953513e+00 -3.25690421e-03  1.40868019e-32 -2.37710291e-02\n",
      "  -3.20948708e-10 -2.35353948e-02]\n",
      " [-3.25690421e-03  7.44553011e-06 -3.43916061e-36  2.70046769e-05\n",
      "   4.21552971e-13  5.37874794e-05]\n",
      " [ 1.40868019e-32 -3.43916061e-36  4.81482486e-35 -5.50265698e-35\n",
      "  -4.09979894e-43  9.90478257e-34]\n",
      " [-2.37710291e-02  2.70046769e-05 -5.50265698e-35  2.48390347e-03\n",
      "   1.31135845e-11  6.38168450e-04]\n",
      " [-3.20948708e-10  4.21552971e-13 -4.09979894e-43  1.31135845e-11\n",
      "   8.21307816e-20  5.12076446e-12]\n",
      " [-2.35353948e-02  5.37874794e-05  9.90478257e-34  6.38168450e-04\n",
      "   5.12076446e-12  4.78439786e-04]]\n"
     ]
    }
   ],
   "source": [
    "#get guess at covarience matrix from this, what about diagonal, do we still use sigma^2 or these values here??\n",
    "\n",
    "#is is what i should be using? I'm skipping the first set of params cause those where my initial guess\n",
    "delt = np.insert(pars_savedArr, 2, 0.05, axis=1)\n",
    "# print(pars_savedArr)\n",
    "# print(delt)\n",
    "\n",
    "# delt = np.array()\n",
    "\n",
    "# delt=chain2.copy()\n",
    "for i in range(delt.shape[1]):\n",
    "#     print(delt[:,i], delt[:,i].mean())\n",
    "    delt[:,i]=delt[:,i]-delt[:,i].mean()\n",
    "    \n",
    "#by using a covariance matrix to draw trial steps from,\n",
    "#we get uncorrelated samples much, much faster than\n",
    "#just taking uncorrelated trial steps\n",
    "\n",
    "\n",
    "mycov=delt.T@delt/delt.shape[0]\n",
    "print(mycov)\n",
    "# print(N)\n",
    "\n",
    "# chain3,chivec3=run_chain_corr(pars_guess,chifun_sinh,[x,y,sig],mycov,20000)"
   ]
  },
  {
   "cell_type": "code",
   "execution_count": 54,
   "metadata": {},
   "outputs": [
    {
     "data": {
      "image/png": "[encoded data removed]",
      "text/plain": [
       "<Figure size 432x288 with 1 Axes>"
      ]
     },
     "metadata": {
      "needs_background": "light"
     },
     "output_type": "display_data"
    }
   ],
   "source": [
    "#[H_0, w_bh2, w_ch2, tau, A_s, slope]\n",
    "pars_fitted=np.insert(pars_cur, 2, 0.05)\n",
    "\n",
    "#[multipole index, measured power spectrum, error, instrument noise part, “cosmic variance” part]\n",
    "\n",
    "# plt.errorbar(wmap[:,0],wmap[:,1],wmap[:,2],fmt='*', alpha=0.1)\n",
    "plt.plot(wmap[:,0],wmap[:,1],'.') \n",
    "\n",
    "cmb=wmap_camb_example.get_spectrum(pars_fitted)\n",
    "\n",
    "plt.plot(cmb) #what really is the x values here then?\n",
    "plt.xlabel(\"multipole index\")\n",
    "plt.ylabel(\"power spectrum\")\n",
    "plt.xlim(0, 1400)\n",
    "\n",
    "plt.show()"
   ]
  },
  {
   "cell_type": "code",
   "execution_count": 62,
   "metadata": {},
   "outputs": [],
   "source": [
    "# If you were to keep the same set of parameter but now float τ, what would you expect the new errors to be?\n",
    "\n",
    "#function and derivatives\n",
    "def f_cmb_tau(x,tau):\n",
    "#     tau=pars[3]\n",
    "\n",
    "    pars = np.insert(pars_cur, 3, tau)\n",
    "    print(pars)\n",
    "    \n",
    "#     y = wmap_camb_example.get_spectrum(pars, lmax=len(x)) #give a length of 1201?\n",
    "    y = wmap_camb_example.get_spectrum(pars, lmax=len(x))[:-2]\n",
    "    \n",
    "    derivs=np.zeros([len(x),1])\n",
    "    \n",
    "    derivs[:,0]=derive_short(x, pars, 3, 0.005)[0]\n",
    "    \n",
    "    return y,derivs"
   ]
  },
  {
   "cell_type": "code",
   "execution_count": 64,
   "metadata": {},
   "outputs": [
    {
     "name": "stdout",
     "output_type": "stream",
     "text": [
      "[9.89369814e+01 2.10236451e-02 1.96373573e-01 5.00000000e-02\n",
      " 2.05678053e-09 1.01124073e+00]\n",
      "[[  249.80650696]\n",
      " [  145.28456995]\n",
      " [  -11.48901928]\n",
      " ...\n",
      " [-1539.99993796]\n",
      " [-1542.82016875]\n",
      " [-1545.60484936]]\n",
      "iteration  0  increase lambda to  2  tried step  [-0.1332416]\n",
      "chisq:  inf\n",
      "[9.89369814e+01 2.10236451e-02 1.96373573e-01 5.00000000e-02\n",
      " 2.05678053e-09 1.01124073e+00]\n",
      "[[  249.80650696]\n",
      " [  145.28456995]\n",
      " [  -11.48901928]\n",
      " ...\n",
      " [-1539.99993796]\n",
      " [-1542.82016875]\n",
      " [-1545.60484936]]\n",
      "iteration  1  increase lambda to  4  tried step  [-0.13323998]\n",
      "chisq:  inf\n",
      "[9.89369814e+01 2.10236451e-02 1.96373573e-01 5.00000000e-02\n",
      " 2.05678053e-09 1.01124073e+00]\n",
      "[[  249.80650696]\n",
      " [  145.28456995]\n",
      " [  -11.48901928]\n",
      " ...\n",
      " [-1539.99993796]\n",
      " [-1542.82016875]\n",
      " [-1545.60484936]]\n",
      "iteration  2  increase lambda to  8  tried step  [-0.13323761]\n",
      "chisq:  inf\n",
      "[9.89369814e+01 2.10236451e-02 1.96373573e-01 5.00000000e-02\n",
      " 2.05678053e-09 1.01124073e+00]\n",
      "[[  249.80650696]\n",
      " [  145.28456995]\n",
      " [  -11.48901928]\n",
      " ...\n",
      " [-1539.99993796]\n",
      " [-1542.82016875]\n",
      " [-1545.60484936]]\n",
      "iteration  3  increase lambda to  16  tried step  [-0.13323058]\n",
      "chisq:  inf\n",
      "[9.89369814e+01 2.10236451e-02 1.96373573e-01 5.00000000e-02\n",
      " 2.05678053e-09 1.01124073e+00]\n"
     ]
    },
    {
     "ename": "KeyboardInterrupt",
     "evalue": "",
     "output_type": "error",
     "traceback": [
      "\u001b[1;31m---------------------------------------------------------------------------\u001b[0m",
      "\u001b[1;31mKeyboardInterrupt\u001b[0m                         Traceback (most recent call last)",
      "\u001b[1;32m<ipython-input-64-272776ea997c>\u001b[0m in \u001b[0;36m<module>\u001b[1;34m\u001b[0m\n\u001b[0;32m     19\u001b[0m \u001b[1;31m#         tau_cur = np.abs(tau_cur) #how can i actually fix this?\u001b[0m\u001b[1;33m\u001b[0m\u001b[1;33m\u001b[0m\u001b[1;33m\u001b[0m\u001b[0m\n\u001b[0;32m     20\u001b[0m \u001b[1;33m\u001b[0m\u001b[0m\n\u001b[1;32m---> 21\u001b[1;33m     \u001b[0my_pred\u001b[0m\u001b[1;33m,\u001b[0m\u001b[0mderivs\u001b[0m\u001b[1;33m=\u001b[0m\u001b[0mf_cmb_tau\u001b[0m\u001b[1;33m(\u001b[0m\u001b[0mx\u001b[0m\u001b[1;33m,\u001b[0m\u001b[0mtau_cur\u001b[0m\u001b[1;33m)\u001b[0m\u001b[1;33m\u001b[0m\u001b[1;33m\u001b[0m\u001b[0m\n\u001b[0m\u001b[0;32m     22\u001b[0m     \u001b[0mresid\u001b[0m\u001b[1;33m=\u001b[0m\u001b[0my\u001b[0m\u001b[1;33m-\u001b[0m\u001b[0my_pred\u001b[0m \u001b[1;31m#data minus current model\u001b[0m\u001b[1;33m\u001b[0m\u001b[1;33m\u001b[0m\u001b[0m\n\u001b[0;32m     23\u001b[0m \u001b[1;33m\u001b[0m\u001b[0m\n",
      "\u001b[1;32m<ipython-input-62-cd6495740d60>\u001b[0m in \u001b[0;36mf_cmb_tau\u001b[1;34m(x, tau)\u001b[0m\n\u001b[0;32m      9\u001b[0m \u001b[1;33m\u001b[0m\u001b[0m\n\u001b[0;32m     10\u001b[0m \u001b[1;31m#     y = wmap_camb_example.get_spectrum(pars, lmax=len(x)) #give a length of 1201?\u001b[0m\u001b[1;33m\u001b[0m\u001b[1;33m\u001b[0m\u001b[1;33m\u001b[0m\u001b[0m\n\u001b[1;32m---> 11\u001b[1;33m     \u001b[0my\u001b[0m \u001b[1;33m=\u001b[0m \u001b[0mwmap_camb_example\u001b[0m\u001b[1;33m.\u001b[0m\u001b[0mget_spectrum\u001b[0m\u001b[1;33m(\u001b[0m\u001b[0mpars\u001b[0m\u001b[1;33m,\u001b[0m \u001b[0mlmax\u001b[0m\u001b[1;33m=\u001b[0m\u001b[0mlen\u001b[0m\u001b[1;33m(\u001b[0m\u001b[0mx\u001b[0m\u001b[1;33m)\u001b[0m\u001b[1;33m)\u001b[0m\u001b[1;33m[\u001b[0m\u001b[1;33m:\u001b[0m\u001b[1;33m-\u001b[0m\u001b[1;36m2\u001b[0m\u001b[1;33m]\u001b[0m\u001b[1;33m\u001b[0m\u001b[1;33m\u001b[0m\u001b[0m\n\u001b[0m\u001b[0;32m     12\u001b[0m \u001b[1;33m\u001b[0m\u001b[0m\n\u001b[0;32m     13\u001b[0m     \u001b[0mderivs\u001b[0m\u001b[1;33m=\u001b[0m\u001b[0mnp\u001b[0m\u001b[1;33m.\u001b[0m\u001b[0mzeros\u001b[0m\u001b[1;33m(\u001b[0m\u001b[1;33m[\u001b[0m\u001b[0mlen\u001b[0m\u001b[1;33m(\u001b[0m\u001b[0mx\u001b[0m\u001b[1;33m)\u001b[0m\u001b[1;33m,\u001b[0m\u001b[1;36m1\u001b[0m\u001b[1;33m]\u001b[0m\u001b[1;33m)\u001b[0m\u001b[1;33m\u001b[0m\u001b[1;33m\u001b[0m\u001b[0m\n",
      "\u001b[1;32m~\\Documents\\uni\\U3\\Phys512_CompPhys\\Phys512_EK\\PS3\\wmap_camb_example.py\u001b[0m in \u001b[0;36mget_spectrum\u001b[1;34m(pars, lmax)\u001b[0m\n\u001b[0;32m     20\u001b[0m \u001b[1;33m\u001b[0m\u001b[0m\n\u001b[0;32m     21\u001b[0m     \u001b[0mresults\u001b[0m\u001b[1;33m=\u001b[0m\u001b[0mcamb\u001b[0m\u001b[1;33m.\u001b[0m\u001b[0mget_results\u001b[0m\u001b[1;33m(\u001b[0m\u001b[0mpars\u001b[0m\u001b[1;33m)\u001b[0m\u001b[1;33m\u001b[0m\u001b[1;33m\u001b[0m\u001b[0m\n\u001b[1;32m---> 22\u001b[1;33m     \u001b[0mpowers\u001b[0m\u001b[1;33m=\u001b[0m\u001b[0mresults\u001b[0m\u001b[1;33m.\u001b[0m\u001b[0mget_cmb_power_spectra\u001b[0m\u001b[1;33m(\u001b[0m\u001b[0mpars\u001b[0m\u001b[1;33m,\u001b[0m\u001b[0mCMB_unit\u001b[0m\u001b[1;33m=\u001b[0m\u001b[1;34m'muK'\u001b[0m\u001b[1;33m)\u001b[0m\u001b[1;33m\u001b[0m\u001b[1;33m\u001b[0m\u001b[0m\n\u001b[0m\u001b[0;32m     23\u001b[0m     \u001b[0mcmb\u001b[0m\u001b[1;33m=\u001b[0m\u001b[0mpowers\u001b[0m\u001b[1;33m[\u001b[0m\u001b[1;34m'total'\u001b[0m\u001b[1;33m]\u001b[0m\u001b[1;33m\u001b[0m\u001b[1;33m\u001b[0m\u001b[0m\n\u001b[0;32m     24\u001b[0m     \u001b[0mtt\u001b[0m\u001b[1;33m=\u001b[0m\u001b[0mcmb\u001b[0m\u001b[1;33m[\u001b[0m\u001b[1;33m:\u001b[0m\u001b[1;33m,\u001b[0m\u001b[1;36m0\u001b[0m\u001b[1;33m]\u001b[0m    \u001b[1;31m#you could return the full power spectrum here if you wanted to do say EE\u001b[0m\u001b[1;33m\u001b[0m\u001b[1;33m\u001b[0m\u001b[0m\n",
      "\u001b[1;32m~\\Anaconda3\\lib\\site-packages\\camb\\results.py\u001b[0m in \u001b[0;36mget_cmb_power_spectra\u001b[1;34m(self, params, lmax, spectra, CMB_unit, raw_cl)\u001b[0m\n\u001b[0;32m    436\u001b[0m         \u001b[0mP\u001b[0m \u001b[1;33m=\u001b[0m \u001b[1;33m{\u001b[0m\u001b[1;33m}\u001b[0m\u001b[1;33m\u001b[0m\u001b[1;33m\u001b[0m\u001b[0m\n\u001b[0;32m    437\u001b[0m         \u001b[1;32mif\u001b[0m \u001b[0mparams\u001b[0m \u001b[1;32mis\u001b[0m \u001b[1;32mnot\u001b[0m \u001b[1;32mNone\u001b[0m\u001b[1;33m:\u001b[0m\u001b[1;33m\u001b[0m\u001b[1;33m\u001b[0m\u001b[0m\n\u001b[1;32m--> 438\u001b[1;33m             \u001b[0mself\u001b[0m\u001b[1;33m.\u001b[0m\u001b[0mcalc_power_spectra\u001b[0m\u001b[1;33m(\u001b[0m\u001b[0mparams\u001b[0m\u001b[1;33m)\u001b[0m\u001b[1;33m\u001b[0m\u001b[1;33m\u001b[0m\u001b[0m\n\u001b[0m\u001b[0;32m    439\u001b[0m         \u001b[0mlmax\u001b[0m \u001b[1;33m=\u001b[0m \u001b[0mself\u001b[0m\u001b[1;33m.\u001b[0m\u001b[0m_lmax_setting\u001b[0m\u001b[1;33m(\u001b[0m\u001b[0mlmax\u001b[0m\u001b[1;33m)\u001b[0m\u001b[1;33m\u001b[0m\u001b[1;33m\u001b[0m\u001b[0m\n\u001b[0;32m    440\u001b[0m         \u001b[1;32mfor\u001b[0m \u001b[0mspectrum\u001b[0m \u001b[1;32min\u001b[0m \u001b[0mspectra\u001b[0m\u001b[1;33m:\u001b[0m\u001b[1;33m\u001b[0m\u001b[1;33m\u001b[0m\u001b[0m\n",
      "\u001b[1;32m~\\Anaconda3\\lib\\site-packages\\camb\\results.py\u001b[0m in \u001b[0;36mcalc_power_spectra\u001b[1;34m(self, params)\u001b[0m\n\u001b[0;32m    327\u001b[0m         \"\"\"\n\u001b[0;32m    328\u001b[0m         \u001b[1;32mif\u001b[0m \u001b[0mparams\u001b[0m \u001b[1;32mis\u001b[0m \u001b[1;32mnot\u001b[0m \u001b[1;32mNone\u001b[0m\u001b[1;33m:\u001b[0m\u001b[1;33m\u001b[0m\u001b[1;33m\u001b[0m\u001b[0m\n\u001b[1;32m--> 329\u001b[1;33m             \u001b[0mself\u001b[0m\u001b[1;33m.\u001b[0m\u001b[0mcalc_transfers\u001b[0m\u001b[1;33m(\u001b[0m\u001b[0mparams\u001b[0m\u001b[1;33m,\u001b[0m \u001b[0monly_transfers\u001b[0m\u001b[1;33m=\u001b[0m\u001b[1;32mFalse\u001b[0m\u001b[1;33m)\u001b[0m\u001b[1;33m\u001b[0m\u001b[1;33m\u001b[0m\u001b[0m\n\u001b[0m\u001b[0;32m    330\u001b[0m         \u001b[1;32melse\u001b[0m\u001b[1;33m:\u001b[0m\u001b[1;33m\u001b[0m\u001b[1;33m\u001b[0m\u001b[0m\n\u001b[0;32m    331\u001b[0m             \u001b[0mself\u001b[0m\u001b[1;33m.\u001b[0m\u001b[0m_check_powers\u001b[0m\u001b[1;33m(\u001b[0m\u001b[1;33m)\u001b[0m\u001b[1;33m\u001b[0m\u001b[1;33m\u001b[0m\u001b[0m\n",
      "\u001b[1;32m~\\Anaconda3\\lib\\site-packages\\camb\\results.py\u001b[0m in \u001b[0;36mcalc_transfers\u001b[1;34m(self, params, only_transfers, only_time_sources)\u001b[0m\n\u001b[0;32m    308\u001b[0m             \u001b[0mself\u001b[0m\u001b[1;33m.\u001b[0m\u001b[0m_check_powers\u001b[0m\u001b[1;33m(\u001b[0m\u001b[0mparams\u001b[0m\u001b[1;33m)\u001b[0m\u001b[1;33m\u001b[0m\u001b[1;33m\u001b[0m\u001b[0m\n\u001b[0;32m    309\u001b[0m         if CAMBdata_gettransfers(byref(self), byref(params), byref(c_int(1 if only_transfers else 0)),\n\u001b[1;32m--> 310\u001b[1;33m                                  byref(c_int(1 if only_time_sources else 0))):\n\u001b[0m\u001b[0;32m    311\u001b[0m             \u001b[0mconfig\u001b[0m\u001b[1;33m.\u001b[0m\u001b[0mcheck_global_error\u001b[0m\u001b[1;33m(\u001b[0m\u001b[1;34m'calc_transfer'\u001b[0m\u001b[1;33m)\u001b[0m\u001b[1;33m\u001b[0m\u001b[1;33m\u001b[0m\u001b[0m\n\u001b[0;32m    312\u001b[0m \u001b[1;33m\u001b[0m\u001b[0m\n",
      "\u001b[1;31mKeyboardInterrupt\u001b[0m: "
     ]
    }
   ],
   "source": [
    "x=wmap[:,0]\n",
    "\n",
    "sig=wmap[:,2]\n",
    "y=wmap[:,1]\n",
    "N=np.eye(len(x))*sig**2\n",
    "Ninv=np.eye(len(x))/sig**2\n",
    "\n",
    "tau_cur = 0.05 #set\n",
    "\n",
    "#using the L-M method, just add prior into chi squared\n",
    "tau_savedArr = []\n",
    "Lambda = 0\n",
    "prev_chi = np.inf\n",
    "\n",
    "for iter in range(8):\n",
    "    \n",
    "    if tau_cur < 0:\n",
    "        print(\"problem, negative tau\")\n",
    "#         tau_cur = np.abs(tau_cur) #how can i actually fix this?\n",
    "\n",
    "    y_pred,derivs=f_cmb_tau(x,tau_cur)\n",
    "    resid=y-y_pred #data minus current model\n",
    "    \n",
    "    print(derivs)\n",
    "\n",
    "    #maybe this isn't the right matrix?\n",
    "    for i in range(len(derivs[0])):\n",
    "#         print(derivs[i][i])\n",
    "        derivs[i][i] = (1+Lambda)*derivs[i][i]\n",
    "    \n",
    "    rhs=derivs.T@(Ninv@resid)\n",
    "    lhs=derivs.T@Ninv@derivs\n",
    "#     print(rhs, lhs)\n",
    "    \n",
    "    step=np.linalg.inv(lhs)@rhs\n",
    "    \n",
    "#     chi_pars = np.insert(pars_cur+step, 2, 0.05)\n",
    "    chi_pars = np.insert(pars_cur, 3, tau_cur+step)\n",
    "    chi = chisq([x, y, sig], chi_pars)\n",
    "    \n",
    "        #chiSq improves, take step\n",
    "    if chi < prev_chi:\n",
    "        tau_cur=tau_cur+step\n",
    "        tau_savedArr.append(tau_cur) #save values for corvarience matrix\n",
    "        prev_chi = chi #save new chqsquared for next step\n",
    "        \n",
    "        Lambda = Lambda / np.sqrt(2) #make lambda setp smaller\n",
    "        print('iteration ',iter,' has step ',step)\n",
    "\n",
    "    #chiSq doesn't improves, take step according to lambda    \n",
    "    else:\n",
    "        if Lambda == 0:\n",
    "            Lambda = 2\n",
    "        else:\n",
    "            Lambda = 2*Lambda\n",
    "#             pars_cur = pars_cur+step\n",
    "        print('iteration ',iter,' increase lambda to ',Lambda, ' tried step ',step)\n",
    "    \n",
    "    print(\"chisq: \", chi)    \n",
    "    \n",
    "par_errs=np.sqrt(np.diag(np.linalg.inv(lhs)))\n",
    "print('final parameters are ', tau_cur,' with errors ',par_errs)"
   ]
  },
  {
   "cell_type": "markdown",
   "metadata": {},
   "source": [
    "### 4) \n",
    "Now write a Markov-chain Monte Carlo where you fit the basic 6 parameters, including τ. However, note that we know the optical depth can’t be negative, so you should reject any steps that try to sample a negative τ.   \n",
    "\n",
    "As a reminder, you can draw samples of correlated data from a covariance matrix with   \n",
    "r = np.linalg.cholesky(mat);   \n",
    "d = np.dot(r, np.random.randn(r.shape[0])).    \n",
    "You will want to use the covariance matrix from part 2) (3?) when drawing samples for the MCMC.   \n",
    "\n",
    "What are your parameter limits now? Please also present an argument as to why you think your chains are converged.   "
   ]
  },
  {
   "cell_type": "code",
   "execution_count": 248,
   "metadata": {},
   "outputs": [
    {
     "name": "stdout",
     "output_type": "stream",
     "text": [
      "[ 7.93143952e+01 -2.86943803e-03  1.53661549e-01  4.05062814e-10\n",
      "  6.89924867e-01]\n"
     ]
    }
   ],
   "source": [
    "print(pars_cur)"
   ]
  },
  {
   "cell_type": "markdown",
   "metadata": {},
   "source": [
    "### 5) \n",
    "The Planck satellite has independently measured the CMB sky, and finds\n",
    "that the optical depth is 0.0544 ± 0.0073. Run a chain where you add this in as a prior on the value of τ. What are your new parameter values/constraints?    \n",
    "You can also take your chain from part 4) and importance sample it (weighting by the prior) with the Planck τ prior. How to those results compare to the full chain results?   \n",
    "(p316 in tb)"
   ]
  },
  {
   "cell_type": "code",
   "execution_count": null,
   "metadata": {},
   "outputs": [],
   "source": []
  }
 ],
 "metadata": {
  "kernelspec": {
   "display_name": "Python 3",
   "language": "python",
   "name": "python3"
  },
  "language_info": {
   "codemirror_mode": {
    "name": "ipython",
    "version": 3
   },
   "file_extension": ".py",
   "mimetype": "text/x-python",
   "name": "python",
   "nbconvert_exporter": "python",
   "pygments_lexer": "ipython3",
   "version": "3.7.4"
  }
 },
 "nbformat": 4,
 "nbformat_minor": 4
}
