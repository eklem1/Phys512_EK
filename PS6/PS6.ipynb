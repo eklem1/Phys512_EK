{
 "cells": [
  {
   "cell_type": "markdown",
   "metadata": {},
   "source": [
    "### Emma Klemets, 260775167   \n",
    "All my work, code, output and written answers are in this notebook."
   ]
  },
  {
   "cell_type": "code",
   "execution_count": 1,
   "metadata": {},
   "outputs": [],
   "source": [
    "#for interactive plots\n",
    "# %matplotlib ipympl"
   ]
  },
  {
   "cell_type": "code",
   "execution_count": 2,
   "metadata": {},
   "outputs": [],
   "source": [
    "import numpy as np\n",
    "import matplotlib.pyplot as plt\n",
    "from mpl_toolkits.mplot3d import Axes3D"
   ]
  },
  {
   "cell_type": "raw",
   "metadata": {},
   "source": [
    "# https://brushingupscience.com/2016/06/21/matplotlib-animations-the-easy-way/\n",
    "\n",
    "should be able to do interative in Jnotebook"
   ]
  },
  {
   "cell_type": "markdown",
   "metadata": {},
   "source": [
    "### Problem 1\n",
    "As I warned in class, there are many, many deeply flawed pseudo-random number generators out there. One widely found version is the default random number generator in the C standard library. Look at test broken libc.py - this shows how to wrap the C standard library in python, call its random number generator, and save the output. (Note the numba wrapper is there for speed but is not required.) I’ve used it to generate random (x,y,z) positions with coordinates between 0 and 2^31 (the max random integer value in the standard library). The type of PRNG used in the library is notorious for introducing correlations between sequential points, with sets of points in n−dimensional space lying on a surprisingly small number of planes.\n",
    "\n",
    "To make this effect easier to see, I’ve pulled out all the (x,y,z) triples\n",
    "with 0 < x, y, z < 10^8 (so about 5% of the total span) and put them in the text file rand points.txt. Show that when correctly viewed, these triples lie along a set of planes (I get about 30) and so are very much not randomly distributed in 3D space. You can either do this by changing the view angle on a 3D plot, or plotting $(ax + by, z)$ for suitably chosen a and b. Do you see the same thing happen with python’s random number generator? If possible, can you see the same effect on your local machine? You may need to change the name of the library in the line: mylib=ctypes.cdll.LoadLibrary(“libc.dylib”)\n",
    "\n",
    "where libc.so would be standard under a Linux system, and you can google for Windows. If you can’t get this part to work, that’s OK - just state so and you won’t lose points."
   ]
  },
  {
   "cell_type": "code",
   "execution_count": 3,
   "metadata": {},
   "outputs": [],
   "source": [
    "triples = np.transpose(np.loadtxt(\"rand_points.txt\"))"
   ]
  },
  {
   "cell_type": "code",
   "execution_count": null,
   "metadata": {},
   "outputs": [],
   "source": [
    "x = np.linspace(45, 60, 9)\n",
    "a = 0\n",
    "# b = 80\n",
    "\n",
    "# add_subplot(nrows, ncols, index,\n",
    "            \n",
    "fig = plt.figure(figsize=(20,20))\n",
    "\n",
    "# axs = ax.flatten()\n",
    "\n",
    "for i, b in enumerate(x):\n",
    "#     print(a)\n",
    "    ax = fig.add_subplot(3, 3, i+1, projection='3d')\n",
    "    ax.scatter(triples[0], triples[1], zs=triples[2])\n",
    "    ax.set_xlabel(\"x\")\n",
    "    ax.set_ylabel(\"y\")\n",
    "    ax.set_zlabel(\"z\")\n",
    "    ax.set_title(\"{}, {}\".format(a, b))\n",
    "\n",
    "    ax.view_init(a, b)\n",
    "    \n",
    "# plt.tight_layout()\n",
    "plt.show()"
   ]
  },
  {
   "cell_type": "code",
   "execution_count": null,
   "metadata": {},
   "outputs": [],
   "source": [
    "x = np.linspace(0, 1.0, 9)\n",
    "b = 0.5\n",
    "\n",
    "# add_subplot(nrows, ncols, index,\n",
    "            \n",
    "fig = plt.figure(figsize=(20,20))\n",
    "\n",
    "# axs = ax.flatten()\n",
    "\n",
    "for i, a in enumerate(x):\n",
    "    print(a)\n",
    "    ax = fig.add_subplot(3, 3, i+1,)\n",
    "    ax.scatter(a*triples[0] +b*triples[1], triples[2])\n",
    "    \n",
    "#     ax.view_init(0, a) #what are the args here then?\n",
    "#     ax.view_init(azim=0, elev=a)\n",
    "\n",
    "fig.tight_layout()\n",
    "plt.show()"
   ]
  },
  {
   "cell_type": "code",
   "execution_count": null,
   "metadata": {},
   "outputs": [],
   "source": []
  },
  {
   "cell_type": "code",
   "execution_count": 7,
   "metadata": {},
   "outputs": [
    {
     "data": {
      "application/vnd.jupyter.widget-view+json": {
       "model_id": "e4a9f86f6f81459384959a7a02368350",
       "version_major": 2,
       "version_minor": 0
      },
      "text/plain": [
       "Canvas(toolbar=Toolbar(toolitems=[('Home', 'Reset original view', 'home', 'home'), ('Back', 'Back to previous …"
      ]
     },
     "metadata": {},
     "output_type": "display_data"
    },
    {
     "data": {
      "text/plain": [
       "Text(0.5, 0, 'z')"
      ]
     },
     "execution_count": 7,
     "metadata": {},
     "output_type": "execute_result"
    }
   ],
   "source": [
    "# points = \n",
    "# figsize=(10,10)\n",
    "fig = plt.figure()\n",
    "ax = fig.add_subplot(111, projection=Axes3D.name)\n",
    "ax.scatter(triples[0], triples[1], zs=triples[2], s=0.1)\n",
    "ax.view_init(3, 87)\n",
    "\n",
    "ax.set_xlabel(\"x\")\n",
    "ax.set_ylabel(\"y\")\n",
    "ax.set_zlabel(\"z\")\n",
    "\n",
    "# plt.show()"
   ]
  },
  {
   "cell_type": "code",
   "execution_count": null,
   "metadata": {},
   "outputs": [],
   "source": [
    "\"\"\"\n",
    "Now generating random integers from python's np.random.ranint \n",
    "in a similar fashion to previous ones from C.\n",
    "This cell is pretty slow.\n",
    "\"\"\"\n",
    "\n",
    "n=300000000\n",
    "# vec=get_randPy(n*3)\n",
    "\n",
    "vec = np.random.randint(0, 2**31, n*3)\n",
    "#vv=vec&(2**16-1)\n",
    "\n",
    "vv=np.reshape(vec,[n,3])\n",
    "# print(vv[0] < maxval)\n",
    "\n",
    "vmax=np.max(vv,axis=1)\n",
    "\n",
    "print(vmax)"
   ]
  },
  {
   "cell_type": "code",
   "execution_count": null,
   "metadata": {},
   "outputs": [],
   "source": [
    "maxval=1e8\n",
    "\n",
    "pythonTriples=np.transpose(vv[vmax<maxval,:])\n",
    "\n",
    "# print(vv2)"
   ]
  },
  {
   "cell_type": "code",
   "execution_count": null,
   "metadata": {},
   "outputs": [],
   "source": [
    "x = np.linspace(0, 170, 9)\n",
    "a = 0\n",
    "# b = 80\n",
    "\n",
    "fig = plt.figure(figsize=(20,20))\n",
    "\n",
    "for i, b in enumerate(x):\n",
    "#     print(a)\n",
    "    ax = fig.add_subplot(3, 3, i+1, projection='3d')\n",
    "    ax.scatter(pythonTriples[0], pythonTriples[1], zs=pythonTriples[2])\n",
    "    ax.set_xlabel(\"x\")\n",
    "    ax.set_ylabel(\"y\")\n",
    "    ax.set_zlabel(\"z\")\n",
    "    ax.set_title(\"{}, {}\".format(a, b))\n",
    "\n",
    "    ax.view_init(a, b)\n",
    "    \n",
    "# plt.tight_layout()\n",
    "plt.show()"
   ]
  },
  {
   "cell_type": "code",
   "execution_count": null,
   "metadata": {},
   "outputs": [],
   "source": [
    "# libc.so on windows\n",
    "\n",
    "\"\"\"\n",
    "dir libc.so /s //finds nothing\n",
    "\n",
    "\"\"\""
   ]
  },
  {
   "cell_type": "markdown",
   "metadata": {},
   "source": [
    "### Problem 2\n",
    "We saw in class how to generate exponential deviates using a transformation. Now write a rejection method to generate exponential deviates from another distribution. Which of Lorentzians, Gaussians, and power laws could you use for the bounding distribution? You can assume the exponential deviates are non-negative (since you have to cut off the distribution somewhere, might as well be at zero). Show that a histogram of your deviates matches up with the expected exponential curve. How efficient can you make this generator, in terms of the fraction of uniform deviates that give rise to an exponential deviate?\n",
    "\n",
    "what \"generate exponential deviates using a transformation\"? like the polar trick? yes"
   ]
  },
  {
   "cell_type": "markdown",
   "metadata": {},
   "source": [
    "\n",
    "integrating from (0.001, inf)\n",
    "\n",
    "$CDF(no) = 1000^a/(1000*a-1000)$ but wait this is a number - so i want the indef one? well that is fine\n",
    "\n",
    "CDF: \n",
    "$y = x^{(1-a)}/(1-a)$\n",
    "\n",
    "$CDF^{-1} = exp(ln(y(1-a))/(1-a))$\n",
    "\n",
    "*Remember we had to put a lower cutoff in the power law to avoid exactly this sort of problem, so x could range from 1 to infinity.  You can pick the lower cutoff to be wherever you want, as long as it's greater than zero, though.  In your case, you want x+0.7 to start at zero, so if you introduce a new variable that's a shifted version of x, you should be able to get it to work.  Equivalently, you could set the minimum value in the power law integral to be something other than 1 (perhaps 0.7 in your case) and re-derive the transform.*"
   ]
  },
  {
   "cell_type": "code",
   "execution_count": 77,
   "metadata": {},
   "outputs": [
    {
     "data": {
      "image/png": "[encoded data removed]",
      "text/plain": [
       "<Figure size 432x288 with 1 Axes>"
      ]
     },
     "metadata": {
      "needs_background": "light"
     },
     "output_type": "display_data"
    }
   ],
   "source": [
    "def gauss(x, sig):\n",
    "    return np.exp(-(x)**2/(2*sig**2))\n",
    "\n",
    "def lor(x, g):\n",
    "    return 1/(np.pi) * (g/2)/(x**2 + (g/2)**2)\n",
    "\n",
    "def power(x, a, b):\n",
    "    return (x+b)**(-a)\n",
    "    \n",
    "x = np.linspace(0, 5, 100)\n",
    "plt.plot(x, np.exp(-x), label=\"exponential\", ls=\"-.\")\n",
    "plt.plot(x, gauss(x, 1.4), label=\"Gaussian\")\n",
    "plt.plot(x, lor(x, 0.5), label=\"Lorentzian\")\n",
    "plt.plot(x, power(x, 1.3, 0.7), label=\"Power\")\n",
    "\n",
    "plt.legend()\n",
    "plt.show()"
   ]
  },
  {
   "cell_type": "markdown",
   "metadata": {},
   "source": [
    "Hard to get the Lorentzian to be above the exponential, so I won't use that one. The power and gaussian both look ok, power is quite far away at low x, but a much better match for large x."
   ]
  },
  {
   "cell_type": "markdown",
   "metadata": {},
   "source": [
    "PDF $= (x+b)^{(-a)}$\n",
    "\n",
    "CDF: \n",
    "$y = (x+b)^{1-a}/(1-a)$\n",
    "\n",
    "$CDF^{-1} = exp(ln(y(1-a))/(1-a)) - b = (y(1-a))^{1/(1-a)} - b $"
   ]
  },
  {
   "cell_type": "code",
   "execution_count": 87,
   "metadata": {},
   "outputs": [
    {
     "data": {
      "image/png": "[encoded data removed]",
      "text/plain": [
       "<Figure size 432x288 with 1 Axes>"
      ]
     },
     "metadata": {
      "needs_background": "light"
     },
     "output_type": "display_data"
    },
    {
     "data": {
      "image/png": "[encoded data removed]",
      "text/plain": [
       "<Figure size 432x288 with 1 Axes>"
      ]
     },
     "metadata": {
      "needs_background": "light"
     },
     "output_type": "display_data"
    }
   ],
   "source": [
    "#what about: (x+0.7)^(-1.3) ? \n",
    "\n",
    "#but here the inverse \n",
    "\n",
    "# exponential should prob be -ve power or else it's crazy\n",
    "# = exp(-x)\n",
    "\n",
    "def power_dev(n):\n",
    "#     y=np.random.uniform(1.1, 20, n)\n",
    "    y=np.random.uniform(-20, -1, n)\n",
    "\n",
    "    return (y*(1-alpha))**(1/(1-alpha)) - beta\n",
    "\n",
    "\n",
    "def expo_from_pow(x):\n",
    "    p = 1.0\n",
    "    acc_prob = p * np.exp(-x)/(x+beta)**(-alpha)\n",
    "    print(np.max(acc_prob)) #this needs to be < 1\n",
    "    acc = np.random.rand(len(acc_prob))<acc_prob #gets values with prob of ratio\n",
    "#     print(acc)\n",
    "    return x[acc]\n",
    "    \n",
    "# alpha = 0.9\n",
    "# beta = 0.6\n",
    "\n",
    "alpha = 1.3\n",
    "beta = 0.7\n",
    "\n",
    "n=10000000\n",
    "y=power_dev(n)\n",
    "\n",
    "ys=y#[np.abs(y)<20]\n",
    "a,b=np.histogram(ys, 200) #return values, bin edges\n",
    "# print(b)\n",
    "\n",
    "bs=0.5*(b[1:]+b[:-1]) #get centers of bins of hist\n",
    "\n",
    "plt.plot(bs, a/a.max(), label=\"hist\")\n",
    "\n",
    "#not that close tho\n",
    "plt.plot(bs, (bs+beta)**(-alpha), label=\"pow\")\n",
    "plt.plot(bs, np.exp(-bs), label=\"exp\")\n",
    "plt.legend()\n",
    "plt.ylim(-0.01, 1.2)\n",
    "plt.show()\n",
    "\n",
    "xA = np.linspace(-0.6, 10)\n",
    "plt.plot(xA, (xA+beta)**(-alpha))\n",
    "plt.plot(xA, np.exp(-xA))\n",
    "\n",
    "plt.show()"
   ]
  },
  {
   "cell_type": "code",
   "execution_count": 88,
   "metadata": {},
   "outputs": [
    {
     "name": "stdout",
     "output_type": "stream",
     "text": [
      "0.7718797879337673\n",
      "Accept fract:  0.1056718\n"
     ]
    },
    {
     "data": {
      "image/png": "[encoded data removed]",
      "text/plain": [
       "<Figure size 432x288 with 1 Axes>"
      ]
     },
     "metadata": {
      "needs_background": "light"
     },
     "output_type": "display_data"
    }
   ],
   "source": [
    "CDF = expo_from_pow(y)\n",
    "\n",
    "print(\"Accept fract: \", len(CDF)/len(y)) #bad\n",
    "\n",
    "CDF_np = np.random.exponential(1, len(CDF))\n",
    "\n",
    "CDF.sort()\n",
    "CDF_np.sort()\n",
    "\n",
    "plt.plot(CDF, label=\"mine\")\n",
    "plt.plot(CDF_np, label=\"np CDF\")\n",
    "plt.legend()\n",
    "\n",
    "plt.show()"
   ]
  },
  {
   "cell_type": "code",
   "execution_count": null,
   "metadata": {},
   "outputs": [],
   "source": []
  },
  {
   "cell_type": "markdown",
   "metadata": {},
   "source": [
    "### Problem 3\n",
    "Repeat problem 2, but now use a ratio-of-uniforms generator. If u goes from 0 to 1, what are your limits on v? How efficient is this generator, in terms of number of exponential deviates produced per uniform deviate? Make sure to plot the histogram again and show it still produces the correct answer."
   ]
  },
  {
   "cell_type": "code",
   "execution_count": 108,
   "metadata": {},
   "outputs": [
    {
     "data": {
      "image/png": "[encoded data removed]",
      "text/plain": [
       "<Figure size 432x288 with 1 Axes>"
      ]
     },
     "metadata": {
      "needs_background": "light"
     },
     "output_type": "display_data"
    }
   ],
   "source": [
    "n=10000000\n",
    "u=np.random.rand(n) #0-1\n",
    "v=20*np.random.rand(n)+.01 #what should this actually be?\n",
    "\"\"\"\n",
    ">0 ?\n",
    "\n",
    "\"\"\"\n",
    "\n",
    "ratio = v/u\n",
    "acc = u < np.exp(-ratio)\n",
    "accepVals = ratio[acc]\n",
    "\n",
    "CDF_np = np.random.exponential(1, len(accepVals))\n",
    "\n",
    "accepVals.sort()\n",
    "CDF_np.sort()\n",
    "\n",
    "plt.plot(accepVals, label=\"mine\")\n",
    "plt.plot(CDF_np, label=\"np CDF\")\n",
    "plt.legend()\n",
    "\n",
    "plt.show()"
   ]
  },
  {
   "cell_type": "code",
   "execution_count": 106,
   "metadata": {},
   "outputs": [
    {
     "data": {
      "image/png": "[encoded data removed]",
      "text/plain": [
       "<Figure size 432x288 with 1 Axes>"
      ]
     },
     "metadata": {
      "needs_background": "light"
     },
     "output_type": "display_data"
    }
   ],
   "source": [
    "a,b=np.histogram(accepVals, 300) #return values, bin edges\n",
    "# print(b)\n",
    "\n",
    "bs=0.5*(b[1:]+b[:-1]) #get centers of bins of hist\n",
    "\n",
    "plt.plot(bs, a/a.max(), label=\"hist\")\n",
    "\n",
    "#not that close tho\n",
    "# plt.plot(bs, (bs+beta)**(-alpha), label=\"pow\")\n",
    "plt.plot(bs, np.exp(-bs), label=\"exp\")\n",
    "plt.legend()\n",
    "plt.ylim(-0.1, 4)\n",
    "plt.xlim(-1, 5)\n",
    "\n",
    "plt.show()"
   ]
  },
  {
   "cell_type": "code",
   "execution_count": null,
   "metadata": {},
   "outputs": [],
   "source": []
  }
 ],
 "metadata": {
  "kernelspec": {
   "display_name": "Python 3",
   "language": "python",
   "name": "python3"
  },
  "language_info": {
   "codemirror_mode": {
    "name": "ipython",
    "version": 3
   },
   "file_extension": ".py",
   "mimetype": "text/x-python",
   "name": "python",
   "nbconvert_exporter": "python",
   "pygments_lexer": "ipython3",
   "version": "3.7.4"
  }
 },
 "nbformat": 4,
 "nbformat_minor": 4
}
